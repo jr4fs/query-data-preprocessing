{
  "nbformat": 4,
  "nbformat_minor": 0,
  "metadata": {
    "colab": {
      "name": "data_exploration.ipynb",
      "provenance": [],
      "collapsed_sections": [
        "NVGXPsVpKjWq",
        "SyjlfULBLCcZ",
        "HPRlRT5gJS-t",
        "Qof2C8Uc_NJ7"
      ],
      "toc_visible": true
    },
    "kernelspec": {
      "name": "python3",
      "display_name": "Python 3"
    },
    "accelerator": "GPU",
    "widgets": {
      "application/vnd.jupyter.widget-state+json": {
        "e8358e0bb85f4f2794e44aae8b90d82c": {
          "model_module": "@jupyter-widgets/controls",
          "model_name": "HBoxModel",
          "state": {
            "_view_name": "HBoxView",
            "_dom_classes": [],
            "_model_name": "HBoxModel",
            "_view_module": "@jupyter-widgets/controls",
            "_model_module_version": "1.5.0",
            "_view_count": null,
            "_view_module_version": "1.5.0",
            "box_style": "",
            "layout": "IPY_MODEL_405820888a074d309353cd9ee1e99fad",
            "_model_module": "@jupyter-widgets/controls",
            "children": [
              "IPY_MODEL_aae2beb3f1bd455b9f910c5dba2bf45c",
              "IPY_MODEL_39d95b92230a43568284ae54291dd745"
            ]
          }
        },
        "405820888a074d309353cd9ee1e99fad": {
          "model_module": "@jupyter-widgets/base",
          "model_name": "LayoutModel",
          "state": {
            "_view_name": "LayoutView",
            "grid_template_rows": null,
            "right": null,
            "justify_content": null,
            "_view_module": "@jupyter-widgets/base",
            "overflow": null,
            "_model_module_version": "1.2.0",
            "_view_count": null,
            "flex_flow": null,
            "width": null,
            "min_width": null,
            "border": null,
            "align_items": null,
            "bottom": null,
            "_model_module": "@jupyter-widgets/base",
            "top": null,
            "grid_column": null,
            "overflow_y": null,
            "overflow_x": null,
            "grid_auto_flow": null,
            "grid_area": null,
            "grid_template_columns": null,
            "flex": null,
            "_model_name": "LayoutModel",
            "justify_items": null,
            "grid_row": null,
            "max_height": null,
            "align_content": null,
            "visibility": null,
            "align_self": null,
            "height": null,
            "min_height": null,
            "padding": null,
            "grid_auto_rows": null,
            "grid_gap": null,
            "max_width": null,
            "order": null,
            "_view_module_version": "1.2.0",
            "grid_template_areas": null,
            "object_position": null,
            "object_fit": null,
            "grid_auto_columns": null,
            "margin": null,
            "display": null,
            "left": null
          }
        },
        "aae2beb3f1bd455b9f910c5dba2bf45c": {
          "model_module": "@jupyter-widgets/controls",
          "model_name": "FloatProgressModel",
          "state": {
            "_view_name": "ProgressView",
            "style": "IPY_MODEL_51a84c2a02754f05813472ae2389eec6",
            "_dom_classes": [],
            "description": "Downloading: 100%",
            "_model_name": "FloatProgressModel",
            "bar_style": "success",
            "max": 480,
            "_view_module": "@jupyter-widgets/controls",
            "_model_module_version": "1.5.0",
            "value": 480,
            "_view_count": null,
            "_view_module_version": "1.5.0",
            "orientation": "horizontal",
            "min": 0,
            "description_tooltip": null,
            "_model_module": "@jupyter-widgets/controls",
            "layout": "IPY_MODEL_796644828d0c474da5ae419451bed614"
          }
        },
        "39d95b92230a43568284ae54291dd745": {
          "model_module": "@jupyter-widgets/controls",
          "model_name": "HTMLModel",
          "state": {
            "_view_name": "HTMLView",
            "style": "IPY_MODEL_54175ac79a5c4e3bb02610760eeeed84",
            "_dom_classes": [],
            "description": "",
            "_model_name": "HTMLModel",
            "placeholder": "​",
            "_view_module": "@jupyter-widgets/controls",
            "_model_module_version": "1.5.0",
            "value": " 480/480 [00:00&lt;00:00, 16.1kB/s]",
            "_view_count": null,
            "_view_module_version": "1.5.0",
            "description_tooltip": null,
            "_model_module": "@jupyter-widgets/controls",
            "layout": "IPY_MODEL_d569c9471aef45b5aaeb6136d0aaf095"
          }
        },
        "51a84c2a02754f05813472ae2389eec6": {
          "model_module": "@jupyter-widgets/controls",
          "model_name": "ProgressStyleModel",
          "state": {
            "_view_name": "StyleView",
            "_model_name": "ProgressStyleModel",
            "description_width": "initial",
            "_view_module": "@jupyter-widgets/base",
            "_model_module_version": "1.5.0",
            "_view_count": null,
            "_view_module_version": "1.2.0",
            "bar_color": null,
            "_model_module": "@jupyter-widgets/controls"
          }
        },
        "796644828d0c474da5ae419451bed614": {
          "model_module": "@jupyter-widgets/base",
          "model_name": "LayoutModel",
          "state": {
            "_view_name": "LayoutView",
            "grid_template_rows": null,
            "right": null,
            "justify_content": null,
            "_view_module": "@jupyter-widgets/base",
            "overflow": null,
            "_model_module_version": "1.2.0",
            "_view_count": null,
            "flex_flow": null,
            "width": null,
            "min_width": null,
            "border": null,
            "align_items": null,
            "bottom": null,
            "_model_module": "@jupyter-widgets/base",
            "top": null,
            "grid_column": null,
            "overflow_y": null,
            "overflow_x": null,
            "grid_auto_flow": null,
            "grid_area": null,
            "grid_template_columns": null,
            "flex": null,
            "_model_name": "LayoutModel",
            "justify_items": null,
            "grid_row": null,
            "max_height": null,
            "align_content": null,
            "visibility": null,
            "align_self": null,
            "height": null,
            "min_height": null,
            "padding": null,
            "grid_auto_rows": null,
            "grid_gap": null,
            "max_width": null,
            "order": null,
            "_view_module_version": "1.2.0",
            "grid_template_areas": null,
            "object_position": null,
            "object_fit": null,
            "grid_auto_columns": null,
            "margin": null,
            "display": null,
            "left": null
          }
        },
        "54175ac79a5c4e3bb02610760eeeed84": {
          "model_module": "@jupyter-widgets/controls",
          "model_name": "DescriptionStyleModel",
          "state": {
            "_view_name": "StyleView",
            "_model_name": "DescriptionStyleModel",
            "description_width": "",
            "_view_module": "@jupyter-widgets/base",
            "_model_module_version": "1.5.0",
            "_view_count": null,
            "_view_module_version": "1.2.0",
            "_model_module": "@jupyter-widgets/controls"
          }
        },
        "d569c9471aef45b5aaeb6136d0aaf095": {
          "model_module": "@jupyter-widgets/base",
          "model_name": "LayoutModel",
          "state": {
            "_view_name": "LayoutView",
            "grid_template_rows": null,
            "right": null,
            "justify_content": null,
            "_view_module": "@jupyter-widgets/base",
            "overflow": null,
            "_model_module_version": "1.2.0",
            "_view_count": null,
            "flex_flow": null,
            "width": null,
            "min_width": null,
            "border": null,
            "align_items": null,
            "bottom": null,
            "_model_module": "@jupyter-widgets/base",
            "top": null,
            "grid_column": null,
            "overflow_y": null,
            "overflow_x": null,
            "grid_auto_flow": null,
            "grid_area": null,
            "grid_template_columns": null,
            "flex": null,
            "_model_name": "LayoutModel",
            "justify_items": null,
            "grid_row": null,
            "max_height": null,
            "align_content": null,
            "visibility": null,
            "align_self": null,
            "height": null,
            "min_height": null,
            "padding": null,
            "grid_auto_rows": null,
            "grid_gap": null,
            "max_width": null,
            "order": null,
            "_view_module_version": "1.2.0",
            "grid_template_areas": null,
            "object_position": null,
            "object_fit": null,
            "grid_auto_columns": null,
            "margin": null,
            "display": null,
            "left": null
          }
        },
        "1375300d419c480a88b59a1f0c644fc1": {
          "model_module": "@jupyter-widgets/controls",
          "model_name": "HBoxModel",
          "state": {
            "_view_name": "HBoxView",
            "_dom_classes": [],
            "_model_name": "HBoxModel",
            "_view_module": "@jupyter-widgets/controls",
            "_model_module_version": "1.5.0",
            "_view_count": null,
            "_view_module_version": "1.5.0",
            "box_style": "",
            "layout": "IPY_MODEL_539f5accdac340b7a6e0ff765e5828f1",
            "_model_module": "@jupyter-widgets/controls",
            "children": [
              "IPY_MODEL_7f68bd6737ec481b954254e3bb0ada8f",
              "IPY_MODEL_7e119182c9a741a3b8fb029e350b45b1"
            ]
          }
        },
        "539f5accdac340b7a6e0ff765e5828f1": {
          "model_module": "@jupyter-widgets/base",
          "model_name": "LayoutModel",
          "state": {
            "_view_name": "LayoutView",
            "grid_template_rows": null,
            "right": null,
            "justify_content": null,
            "_view_module": "@jupyter-widgets/base",
            "overflow": null,
            "_model_module_version": "1.2.0",
            "_view_count": null,
            "flex_flow": null,
            "width": null,
            "min_width": null,
            "border": null,
            "align_items": null,
            "bottom": null,
            "_model_module": "@jupyter-widgets/base",
            "top": null,
            "grid_column": null,
            "overflow_y": null,
            "overflow_x": null,
            "grid_auto_flow": null,
            "grid_area": null,
            "grid_template_columns": null,
            "flex": null,
            "_model_name": "LayoutModel",
            "justify_items": null,
            "grid_row": null,
            "max_height": null,
            "align_content": null,
            "visibility": null,
            "align_self": null,
            "height": null,
            "min_height": null,
            "padding": null,
            "grid_auto_rows": null,
            "grid_gap": null,
            "max_width": null,
            "order": null,
            "_view_module_version": "1.2.0",
            "grid_template_areas": null,
            "object_position": null,
            "object_fit": null,
            "grid_auto_columns": null,
            "margin": null,
            "display": null,
            "left": null
          }
        },
        "7f68bd6737ec481b954254e3bb0ada8f": {
          "model_module": "@jupyter-widgets/controls",
          "model_name": "FloatProgressModel",
          "state": {
            "_view_name": "ProgressView",
            "style": "IPY_MODEL_d68444b7578a4edcbf3fb601c69014ea",
            "_dom_classes": [],
            "description": "Downloading: 100%",
            "_model_name": "FloatProgressModel",
            "bar_style": "success",
            "max": 331070498,
            "_view_module": "@jupyter-widgets/controls",
            "_model_module_version": "1.5.0",
            "value": 331070498,
            "_view_count": null,
            "_view_module_version": "1.5.0",
            "orientation": "horizontal",
            "min": 0,
            "description_tooltip": null,
            "_model_module": "@jupyter-widgets/controls",
            "layout": "IPY_MODEL_721fa0484db048e2bf0fd840664f8b6d"
          }
        },
        "7e119182c9a741a3b8fb029e350b45b1": {
          "model_module": "@jupyter-widgets/controls",
          "model_name": "HTMLModel",
          "state": {
            "_view_name": "HTMLView",
            "style": "IPY_MODEL_aa32fa80492a45f9b9ff76f8644c3350",
            "_dom_classes": [],
            "description": "",
            "_model_name": "HTMLModel",
            "placeholder": "​",
            "_view_module": "@jupyter-widgets/controls",
            "_model_module_version": "1.5.0",
            "value": " 331M/331M [00:04&lt;00:00, 66.7MB/s]",
            "_view_count": null,
            "_view_module_version": "1.5.0",
            "description_tooltip": null,
            "_model_module": "@jupyter-widgets/controls",
            "layout": "IPY_MODEL_0c558e72084645ea957ec3c88b22451b"
          }
        },
        "d68444b7578a4edcbf3fb601c69014ea": {
          "model_module": "@jupyter-widgets/controls",
          "model_name": "ProgressStyleModel",
          "state": {
            "_view_name": "StyleView",
            "_model_name": "ProgressStyleModel",
            "description_width": "initial",
            "_view_module": "@jupyter-widgets/base",
            "_model_module_version": "1.5.0",
            "_view_count": null,
            "_view_module_version": "1.2.0",
            "bar_color": null,
            "_model_module": "@jupyter-widgets/controls"
          }
        },
        "721fa0484db048e2bf0fd840664f8b6d": {
          "model_module": "@jupyter-widgets/base",
          "model_name": "LayoutModel",
          "state": {
            "_view_name": "LayoutView",
            "grid_template_rows": null,
            "right": null,
            "justify_content": null,
            "_view_module": "@jupyter-widgets/base",
            "overflow": null,
            "_model_module_version": "1.2.0",
            "_view_count": null,
            "flex_flow": null,
            "width": null,
            "min_width": null,
            "border": null,
            "align_items": null,
            "bottom": null,
            "_model_module": "@jupyter-widgets/base",
            "top": null,
            "grid_column": null,
            "overflow_y": null,
            "overflow_x": null,
            "grid_auto_flow": null,
            "grid_area": null,
            "grid_template_columns": null,
            "flex": null,
            "_model_name": "LayoutModel",
            "justify_items": null,
            "grid_row": null,
            "max_height": null,
            "align_content": null,
            "visibility": null,
            "align_self": null,
            "height": null,
            "min_height": null,
            "padding": null,
            "grid_auto_rows": null,
            "grid_gap": null,
            "max_width": null,
            "order": null,
            "_view_module_version": "1.2.0",
            "grid_template_areas": null,
            "object_position": null,
            "object_fit": null,
            "grid_auto_columns": null,
            "margin": null,
            "display": null,
            "left": null
          }
        },
        "aa32fa80492a45f9b9ff76f8644c3350": {
          "model_module": "@jupyter-widgets/controls",
          "model_name": "DescriptionStyleModel",
          "state": {
            "_view_name": "StyleView",
            "_model_name": "DescriptionStyleModel",
            "description_width": "",
            "_view_module": "@jupyter-widgets/base",
            "_model_module_version": "1.5.0",
            "_view_count": null,
            "_view_module_version": "1.2.0",
            "_model_module": "@jupyter-widgets/controls"
          }
        },
        "0c558e72084645ea957ec3c88b22451b": {
          "model_module": "@jupyter-widgets/base",
          "model_name": "LayoutModel",
          "state": {
            "_view_name": "LayoutView",
            "grid_template_rows": null,
            "right": null,
            "justify_content": null,
            "_view_module": "@jupyter-widgets/base",
            "overflow": null,
            "_model_module_version": "1.2.0",
            "_view_count": null,
            "flex_flow": null,
            "width": null,
            "min_width": null,
            "border": null,
            "align_items": null,
            "bottom": null,
            "_model_module": "@jupyter-widgets/base",
            "top": null,
            "grid_column": null,
            "overflow_y": null,
            "overflow_x": null,
            "grid_auto_flow": null,
            "grid_area": null,
            "grid_template_columns": null,
            "flex": null,
            "_model_name": "LayoutModel",
            "justify_items": null,
            "grid_row": null,
            "max_height": null,
            "align_content": null,
            "visibility": null,
            "align_self": null,
            "height": null,
            "min_height": null,
            "padding": null,
            "grid_auto_rows": null,
            "grid_gap": null,
            "max_width": null,
            "order": null,
            "_view_module_version": "1.2.0",
            "grid_template_areas": null,
            "object_position": null,
            "object_fit": null,
            "grid_auto_columns": null,
            "margin": null,
            "display": null,
            "left": null
          }
        },
        "6d9b0e360a1c462ab6796b41b055ca52": {
          "model_module": "@jupyter-widgets/controls",
          "model_name": "HBoxModel",
          "state": {
            "_view_name": "HBoxView",
            "_dom_classes": [],
            "_model_name": "HBoxModel",
            "_view_module": "@jupyter-widgets/controls",
            "_model_module_version": "1.5.0",
            "_view_count": null,
            "_view_module_version": "1.5.0",
            "box_style": "",
            "layout": "IPY_MODEL_f5e6c171db3d45448dbca7674ee9dcab",
            "_model_module": "@jupyter-widgets/controls",
            "children": [
              "IPY_MODEL_7884b5a11bd54928a6c6516f7b064266",
              "IPY_MODEL_5e1a24eef877472d8664033b29ee548f"
            ]
          }
        },
        "f5e6c171db3d45448dbca7674ee9dcab": {
          "model_module": "@jupyter-widgets/base",
          "model_name": "LayoutModel",
          "state": {
            "_view_name": "LayoutView",
            "grid_template_rows": null,
            "right": null,
            "justify_content": null,
            "_view_module": "@jupyter-widgets/base",
            "overflow": null,
            "_model_module_version": "1.2.0",
            "_view_count": null,
            "flex_flow": null,
            "width": null,
            "min_width": null,
            "border": null,
            "align_items": null,
            "bottom": null,
            "_model_module": "@jupyter-widgets/base",
            "top": null,
            "grid_column": null,
            "overflow_y": null,
            "overflow_x": null,
            "grid_auto_flow": null,
            "grid_area": null,
            "grid_template_columns": null,
            "flex": null,
            "_model_name": "LayoutModel",
            "justify_items": null,
            "grid_row": null,
            "max_height": null,
            "align_content": null,
            "visibility": null,
            "align_self": null,
            "height": null,
            "min_height": null,
            "padding": null,
            "grid_auto_rows": null,
            "grid_gap": null,
            "max_width": null,
            "order": null,
            "_view_module_version": "1.2.0",
            "grid_template_areas": null,
            "object_position": null,
            "object_fit": null,
            "grid_auto_columns": null,
            "margin": null,
            "display": null,
            "left": null
          }
        },
        "7884b5a11bd54928a6c6516f7b064266": {
          "model_module": "@jupyter-widgets/controls",
          "model_name": "FloatProgressModel",
          "state": {
            "_view_name": "ProgressView",
            "style": "IPY_MODEL_29db8520e73a4364845629e04d90f8c4",
            "_dom_classes": [],
            "description": "Downloading: 100%",
            "_model_name": "FloatProgressModel",
            "bar_style": "success",
            "max": 898823,
            "_view_module": "@jupyter-widgets/controls",
            "_model_module_version": "1.5.0",
            "value": 898823,
            "_view_count": null,
            "_view_module_version": "1.5.0",
            "orientation": "horizontal",
            "min": 0,
            "description_tooltip": null,
            "_model_module": "@jupyter-widgets/controls",
            "layout": "IPY_MODEL_c600d64beb4f4e1a99b765048315ecd9"
          }
        },
        "5e1a24eef877472d8664033b29ee548f": {
          "model_module": "@jupyter-widgets/controls",
          "model_name": "HTMLModel",
          "state": {
            "_view_name": "HTMLView",
            "style": "IPY_MODEL_969e54e7946f4b69ac593a7537a2da7a",
            "_dom_classes": [],
            "description": "",
            "_model_name": "HTMLModel",
            "placeholder": "​",
            "_view_module": "@jupyter-widgets/controls",
            "_model_module_version": "1.5.0",
            "value": " 899k/899k [00:00&lt;00:00, 4.31MB/s]",
            "_view_count": null,
            "_view_module_version": "1.5.0",
            "description_tooltip": null,
            "_model_module": "@jupyter-widgets/controls",
            "layout": "IPY_MODEL_e9132dd7012f48bea23d2db877f38922"
          }
        },
        "29db8520e73a4364845629e04d90f8c4": {
          "model_module": "@jupyter-widgets/controls",
          "model_name": "ProgressStyleModel",
          "state": {
            "_view_name": "StyleView",
            "_model_name": "ProgressStyleModel",
            "description_width": "initial",
            "_view_module": "@jupyter-widgets/base",
            "_model_module_version": "1.5.0",
            "_view_count": null,
            "_view_module_version": "1.2.0",
            "bar_color": null,
            "_model_module": "@jupyter-widgets/controls"
          }
        },
        "c600d64beb4f4e1a99b765048315ecd9": {
          "model_module": "@jupyter-widgets/base",
          "model_name": "LayoutModel",
          "state": {
            "_view_name": "LayoutView",
            "grid_template_rows": null,
            "right": null,
            "justify_content": null,
            "_view_module": "@jupyter-widgets/base",
            "overflow": null,
            "_model_module_version": "1.2.0",
            "_view_count": null,
            "flex_flow": null,
            "width": null,
            "min_width": null,
            "border": null,
            "align_items": null,
            "bottom": null,
            "_model_module": "@jupyter-widgets/base",
            "top": null,
            "grid_column": null,
            "overflow_y": null,
            "overflow_x": null,
            "grid_auto_flow": null,
            "grid_area": null,
            "grid_template_columns": null,
            "flex": null,
            "_model_name": "LayoutModel",
            "justify_items": null,
            "grid_row": null,
            "max_height": null,
            "align_content": null,
            "visibility": null,
            "align_self": null,
            "height": null,
            "min_height": null,
            "padding": null,
            "grid_auto_rows": null,
            "grid_gap": null,
            "max_width": null,
            "order": null,
            "_view_module_version": "1.2.0",
            "grid_template_areas": null,
            "object_position": null,
            "object_fit": null,
            "grid_auto_columns": null,
            "margin": null,
            "display": null,
            "left": null
          }
        },
        "969e54e7946f4b69ac593a7537a2da7a": {
          "model_module": "@jupyter-widgets/controls",
          "model_name": "DescriptionStyleModel",
          "state": {
            "_view_name": "StyleView",
            "_model_name": "DescriptionStyleModel",
            "description_width": "",
            "_view_module": "@jupyter-widgets/base",
            "_model_module_version": "1.5.0",
            "_view_count": null,
            "_view_module_version": "1.2.0",
            "_model_module": "@jupyter-widgets/controls"
          }
        },
        "e9132dd7012f48bea23d2db877f38922": {
          "model_module": "@jupyter-widgets/base",
          "model_name": "LayoutModel",
          "state": {
            "_view_name": "LayoutView",
            "grid_template_rows": null,
            "right": null,
            "justify_content": null,
            "_view_module": "@jupyter-widgets/base",
            "overflow": null,
            "_model_module_version": "1.2.0",
            "_view_count": null,
            "flex_flow": null,
            "width": null,
            "min_width": null,
            "border": null,
            "align_items": null,
            "bottom": null,
            "_model_module": "@jupyter-widgets/base",
            "top": null,
            "grid_column": null,
            "overflow_y": null,
            "overflow_x": null,
            "grid_auto_flow": null,
            "grid_area": null,
            "grid_template_columns": null,
            "flex": null,
            "_model_name": "LayoutModel",
            "justify_items": null,
            "grid_row": null,
            "max_height": null,
            "align_content": null,
            "visibility": null,
            "align_self": null,
            "height": null,
            "min_height": null,
            "padding": null,
            "grid_auto_rows": null,
            "grid_gap": null,
            "max_width": null,
            "order": null,
            "_view_module_version": "1.2.0",
            "grid_template_areas": null,
            "object_position": null,
            "object_fit": null,
            "grid_auto_columns": null,
            "margin": null,
            "display": null,
            "left": null
          }
        },
        "f5433ad9b8c742cd981ea09aeca389ac": {
          "model_module": "@jupyter-widgets/controls",
          "model_name": "HBoxModel",
          "state": {
            "_view_name": "HBoxView",
            "_dom_classes": [],
            "_model_name": "HBoxModel",
            "_view_module": "@jupyter-widgets/controls",
            "_model_module_version": "1.5.0",
            "_view_count": null,
            "_view_module_version": "1.5.0",
            "box_style": "",
            "layout": "IPY_MODEL_1c8957e0b7ca4a1f91e3fb19fffd71a6",
            "_model_module": "@jupyter-widgets/controls",
            "children": [
              "IPY_MODEL_3c2da88916bd48e0a18fd617f8439121",
              "IPY_MODEL_0f68d7c7096f4bc58aa04b78794c8db9"
            ]
          }
        },
        "1c8957e0b7ca4a1f91e3fb19fffd71a6": {
          "model_module": "@jupyter-widgets/base",
          "model_name": "LayoutModel",
          "state": {
            "_view_name": "LayoutView",
            "grid_template_rows": null,
            "right": null,
            "justify_content": null,
            "_view_module": "@jupyter-widgets/base",
            "overflow": null,
            "_model_module_version": "1.2.0",
            "_view_count": null,
            "flex_flow": null,
            "width": null,
            "min_width": null,
            "border": null,
            "align_items": null,
            "bottom": null,
            "_model_module": "@jupyter-widgets/base",
            "top": null,
            "grid_column": null,
            "overflow_y": null,
            "overflow_x": null,
            "grid_auto_flow": null,
            "grid_area": null,
            "grid_template_columns": null,
            "flex": null,
            "_model_name": "LayoutModel",
            "justify_items": null,
            "grid_row": null,
            "max_height": null,
            "align_content": null,
            "visibility": null,
            "align_self": null,
            "height": null,
            "min_height": null,
            "padding": null,
            "grid_auto_rows": null,
            "grid_gap": null,
            "max_width": null,
            "order": null,
            "_view_module_version": "1.2.0",
            "grid_template_areas": null,
            "object_position": null,
            "object_fit": null,
            "grid_auto_columns": null,
            "margin": null,
            "display": null,
            "left": null
          }
        },
        "3c2da88916bd48e0a18fd617f8439121": {
          "model_module": "@jupyter-widgets/controls",
          "model_name": "FloatProgressModel",
          "state": {
            "_view_name": "ProgressView",
            "style": "IPY_MODEL_ed9641a5897a4867a420b6cb4c3551f9",
            "_dom_classes": [],
            "description": "Downloading: 100%",
            "_model_name": "FloatProgressModel",
            "bar_style": "success",
            "max": 456318,
            "_view_module": "@jupyter-widgets/controls",
            "_model_module_version": "1.5.0",
            "value": 456318,
            "_view_count": null,
            "_view_module_version": "1.5.0",
            "orientation": "horizontal",
            "min": 0,
            "description_tooltip": null,
            "_model_module": "@jupyter-widgets/controls",
            "layout": "IPY_MODEL_470e1aed83fe4dbfa1881a6db6e33bdf"
          }
        },
        "0f68d7c7096f4bc58aa04b78794c8db9": {
          "model_module": "@jupyter-widgets/controls",
          "model_name": "HTMLModel",
          "state": {
            "_view_name": "HTMLView",
            "style": "IPY_MODEL_0474c2ef1e2243a5bf99214a0e5c3994",
            "_dom_classes": [],
            "description": "",
            "_model_name": "HTMLModel",
            "placeholder": "​",
            "_view_module": "@jupyter-widgets/controls",
            "_model_module_version": "1.5.0",
            "value": " 456k/456k [00:00&lt;00:00, 4.08MB/s]",
            "_view_count": null,
            "_view_module_version": "1.5.0",
            "description_tooltip": null,
            "_model_module": "@jupyter-widgets/controls",
            "layout": "IPY_MODEL_00848ceda2024883ac1ef38600f003e8"
          }
        },
        "ed9641a5897a4867a420b6cb4c3551f9": {
          "model_module": "@jupyter-widgets/controls",
          "model_name": "ProgressStyleModel",
          "state": {
            "_view_name": "StyleView",
            "_model_name": "ProgressStyleModel",
            "description_width": "initial",
            "_view_module": "@jupyter-widgets/base",
            "_model_module_version": "1.5.0",
            "_view_count": null,
            "_view_module_version": "1.2.0",
            "bar_color": null,
            "_model_module": "@jupyter-widgets/controls"
          }
        },
        "470e1aed83fe4dbfa1881a6db6e33bdf": {
          "model_module": "@jupyter-widgets/base",
          "model_name": "LayoutModel",
          "state": {
            "_view_name": "LayoutView",
            "grid_template_rows": null,
            "right": null,
            "justify_content": null,
            "_view_module": "@jupyter-widgets/base",
            "overflow": null,
            "_model_module_version": "1.2.0",
            "_view_count": null,
            "flex_flow": null,
            "width": null,
            "min_width": null,
            "border": null,
            "align_items": null,
            "bottom": null,
            "_model_module": "@jupyter-widgets/base",
            "top": null,
            "grid_column": null,
            "overflow_y": null,
            "overflow_x": null,
            "grid_auto_flow": null,
            "grid_area": null,
            "grid_template_columns": null,
            "flex": null,
            "_model_name": "LayoutModel",
            "justify_items": null,
            "grid_row": null,
            "max_height": null,
            "align_content": null,
            "visibility": null,
            "align_self": null,
            "height": null,
            "min_height": null,
            "padding": null,
            "grid_auto_rows": null,
            "grid_gap": null,
            "max_width": null,
            "order": null,
            "_view_module_version": "1.2.0",
            "grid_template_areas": null,
            "object_position": null,
            "object_fit": null,
            "grid_auto_columns": null,
            "margin": null,
            "display": null,
            "left": null
          }
        },
        "0474c2ef1e2243a5bf99214a0e5c3994": {
          "model_module": "@jupyter-widgets/controls",
          "model_name": "DescriptionStyleModel",
          "state": {
            "_view_name": "StyleView",
            "_model_name": "DescriptionStyleModel",
            "description_width": "",
            "_view_module": "@jupyter-widgets/base",
            "_model_module_version": "1.5.0",
            "_view_count": null,
            "_view_module_version": "1.2.0",
            "_model_module": "@jupyter-widgets/controls"
          }
        },
        "00848ceda2024883ac1ef38600f003e8": {
          "model_module": "@jupyter-widgets/base",
          "model_name": "LayoutModel",
          "state": {
            "_view_name": "LayoutView",
            "grid_template_rows": null,
            "right": null,
            "justify_content": null,
            "_view_module": "@jupyter-widgets/base",
            "overflow": null,
            "_model_module_version": "1.2.0",
            "_view_count": null,
            "flex_flow": null,
            "width": null,
            "min_width": null,
            "border": null,
            "align_items": null,
            "bottom": null,
            "_model_module": "@jupyter-widgets/base",
            "top": null,
            "grid_column": null,
            "overflow_y": null,
            "overflow_x": null,
            "grid_auto_flow": null,
            "grid_area": null,
            "grid_template_columns": null,
            "flex": null,
            "_model_name": "LayoutModel",
            "justify_items": null,
            "grid_row": null,
            "max_height": null,
            "align_content": null,
            "visibility": null,
            "align_self": null,
            "height": null,
            "min_height": null,
            "padding": null,
            "grid_auto_rows": null,
            "grid_gap": null,
            "max_width": null,
            "order": null,
            "_view_module_version": "1.2.0",
            "grid_template_areas": null,
            "object_position": null,
            "object_fit": null,
            "grid_auto_columns": null,
            "margin": null,
            "display": null,
            "left": null
          }
        },
        "a6d97c49892746529593de73e87fa1eb": {
          "model_module": "@jupyter-widgets/controls",
          "model_name": "HBoxModel",
          "state": {
            "_view_name": "HBoxView",
            "_dom_classes": [],
            "_model_name": "HBoxModel",
            "_view_module": "@jupyter-widgets/controls",
            "_model_module_version": "1.5.0",
            "_view_count": null,
            "_view_module_version": "1.5.0",
            "box_style": "",
            "layout": "IPY_MODEL_bc58e423ea884330b4d0189a4623f042",
            "_model_module": "@jupyter-widgets/controls",
            "children": [
              "IPY_MODEL_8ef2d288adf74743898beae485e5ba85",
              "IPY_MODEL_185c47f45b3943f28d1da7596491b297"
            ]
          }
        },
        "bc58e423ea884330b4d0189a4623f042": {
          "model_module": "@jupyter-widgets/base",
          "model_name": "LayoutModel",
          "state": {
            "_view_name": "LayoutView",
            "grid_template_rows": null,
            "right": null,
            "justify_content": null,
            "_view_module": "@jupyter-widgets/base",
            "overflow": null,
            "_model_module_version": "1.2.0",
            "_view_count": null,
            "flex_flow": null,
            "width": null,
            "min_width": null,
            "border": null,
            "align_items": null,
            "bottom": null,
            "_model_module": "@jupyter-widgets/base",
            "top": null,
            "grid_column": null,
            "overflow_y": null,
            "overflow_x": null,
            "grid_auto_flow": null,
            "grid_area": null,
            "grid_template_columns": null,
            "flex": null,
            "_model_name": "LayoutModel",
            "justify_items": null,
            "grid_row": null,
            "max_height": null,
            "align_content": null,
            "visibility": null,
            "align_self": null,
            "height": null,
            "min_height": null,
            "padding": null,
            "grid_auto_rows": null,
            "grid_gap": null,
            "max_width": null,
            "order": null,
            "_view_module_version": "1.2.0",
            "grid_template_areas": null,
            "object_position": null,
            "object_fit": null,
            "grid_auto_columns": null,
            "margin": null,
            "display": null,
            "left": null
          }
        },
        "8ef2d288adf74743898beae485e5ba85": {
          "model_module": "@jupyter-widgets/controls",
          "model_name": "FloatProgressModel",
          "state": {
            "_view_name": "ProgressView",
            "style": "IPY_MODEL_3536b9ec38ea4071b1a35bfbc1b0c633",
            "_dom_classes": [],
            "description": "Downloading: 100%",
            "_model_name": "FloatProgressModel",
            "bar_style": "success",
            "max": 1355863,
            "_view_module": "@jupyter-widgets/controls",
            "_model_module_version": "1.5.0",
            "value": 1355863,
            "_view_count": null,
            "_view_module_version": "1.5.0",
            "orientation": "horizontal",
            "min": 0,
            "description_tooltip": null,
            "_model_module": "@jupyter-widgets/controls",
            "layout": "IPY_MODEL_c5856c665e0b4b6caab9f72975554815"
          }
        },
        "185c47f45b3943f28d1da7596491b297": {
          "model_module": "@jupyter-widgets/controls",
          "model_name": "HTMLModel",
          "state": {
            "_view_name": "HTMLView",
            "style": "IPY_MODEL_c8e0d56eddc64106bddddcb07f3cbf68",
            "_dom_classes": [],
            "description": "",
            "_model_name": "HTMLModel",
            "placeholder": "​",
            "_view_module": "@jupyter-widgets/controls",
            "_model_module_version": "1.5.0",
            "value": " 1.36M/1.36M [09:03&lt;00:00, 2.49kB/s]",
            "_view_count": null,
            "_view_module_version": "1.5.0",
            "description_tooltip": null,
            "_model_module": "@jupyter-widgets/controls",
            "layout": "IPY_MODEL_bda0064adebe430eacd8523046c9a33c"
          }
        },
        "3536b9ec38ea4071b1a35bfbc1b0c633": {
          "model_module": "@jupyter-widgets/controls",
          "model_name": "ProgressStyleModel",
          "state": {
            "_view_name": "StyleView",
            "_model_name": "ProgressStyleModel",
            "description_width": "initial",
            "_view_module": "@jupyter-widgets/base",
            "_model_module_version": "1.5.0",
            "_view_count": null,
            "_view_module_version": "1.2.0",
            "bar_color": null,
            "_model_module": "@jupyter-widgets/controls"
          }
        },
        "c5856c665e0b4b6caab9f72975554815": {
          "model_module": "@jupyter-widgets/base",
          "model_name": "LayoutModel",
          "state": {
            "_view_name": "LayoutView",
            "grid_template_rows": null,
            "right": null,
            "justify_content": null,
            "_view_module": "@jupyter-widgets/base",
            "overflow": null,
            "_model_module_version": "1.2.0",
            "_view_count": null,
            "flex_flow": null,
            "width": null,
            "min_width": null,
            "border": null,
            "align_items": null,
            "bottom": null,
            "_model_module": "@jupyter-widgets/base",
            "top": null,
            "grid_column": null,
            "overflow_y": null,
            "overflow_x": null,
            "grid_auto_flow": null,
            "grid_area": null,
            "grid_template_columns": null,
            "flex": null,
            "_model_name": "LayoutModel",
            "justify_items": null,
            "grid_row": null,
            "max_height": null,
            "align_content": null,
            "visibility": null,
            "align_self": null,
            "height": null,
            "min_height": null,
            "padding": null,
            "grid_auto_rows": null,
            "grid_gap": null,
            "max_width": null,
            "order": null,
            "_view_module_version": "1.2.0",
            "grid_template_areas": null,
            "object_position": null,
            "object_fit": null,
            "grid_auto_columns": null,
            "margin": null,
            "display": null,
            "left": null
          }
        },
        "c8e0d56eddc64106bddddcb07f3cbf68": {
          "model_module": "@jupyter-widgets/controls",
          "model_name": "DescriptionStyleModel",
          "state": {
            "_view_name": "StyleView",
            "_model_name": "DescriptionStyleModel",
            "description_width": "",
            "_view_module": "@jupyter-widgets/base",
            "_model_module_version": "1.5.0",
            "_view_count": null,
            "_view_module_version": "1.2.0",
            "_model_module": "@jupyter-widgets/controls"
          }
        },
        "bda0064adebe430eacd8523046c9a33c": {
          "model_module": "@jupyter-widgets/base",
          "model_name": "LayoutModel",
          "state": {
            "_view_name": "LayoutView",
            "grid_template_rows": null,
            "right": null,
            "justify_content": null,
            "_view_module": "@jupyter-widgets/base",
            "overflow": null,
            "_model_module_version": "1.2.0",
            "_view_count": null,
            "flex_flow": null,
            "width": null,
            "min_width": null,
            "border": null,
            "align_items": null,
            "bottom": null,
            "_model_module": "@jupyter-widgets/base",
            "top": null,
            "grid_column": null,
            "overflow_y": null,
            "overflow_x": null,
            "grid_auto_flow": null,
            "grid_area": null,
            "grid_template_columns": null,
            "flex": null,
            "_model_name": "LayoutModel",
            "justify_items": null,
            "grid_row": null,
            "max_height": null,
            "align_content": null,
            "visibility": null,
            "align_self": null,
            "height": null,
            "min_height": null,
            "padding": null,
            "grid_auto_rows": null,
            "grid_gap": null,
            "max_width": null,
            "order": null,
            "_view_module_version": "1.2.0",
            "grid_template_areas": null,
            "object_position": null,
            "object_fit": null,
            "grid_auto_columns": null,
            "margin": null,
            "display": null,
            "left": null
          }
        }
      }
    }
  },
  "cells": [
    {
      "cell_type": "markdown",
      "metadata": {
        "id": "cDXP59H7DwmL"
      },
      "source": [
        "## This notebook contains data exploration for search_request.csv and search_result_interaction.csv"
      ]
    },
    {
      "cell_type": "markdown",
      "metadata": {
        "id": "NVGXPsVpKjWq"
      },
      "source": [
        "# Mount Google Drive"
      ]
    },
    {
      "cell_type": "code",
      "metadata": {
        "colab": {
          "base_uri": "https://localhost:8080/"
        },
        "id": "LKTohoX9Kvnw",
        "outputId": "3f957d3e-5409-49ab-8619-190607c57a38"
      },
      "source": [
        "from google.colab import drive\n",
        "drive.mount('/content/drive')"
      ],
      "execution_count": 1,
      "outputs": [
        {
          "output_type": "stream",
          "text": [
            "Mounted at /content/drive\n"
          ],
          "name": "stdout"
        }
      ]
    },
    {
      "cell_type": "markdown",
      "metadata": {
        "id": "SyjlfULBLCcZ"
      },
      "source": [
        "# Imports"
      ]
    },
    {
      "cell_type": "code",
      "metadata": {
        "id": "Sgq7m1KgLCAM",
        "colab": {
          "base_uri": "https://localhost:8080/"
        },
        "outputId": "3e4baf73-d279-4bcb-f413-f15b51769b97"
      },
      "source": [
        "!pip install --upgrade gensim\n",
        "!pip install transformers\n",
        "\n",
        "import pandas as pd\n",
        "from gensim.models import Word2Vec\n",
        "import gensim.downloader as api\n",
        "\n",
        "import nltk\n",
        "nltk.download('punkt')\n",
        "import numpy as np\n",
        "\n",
        "import matplotlib.pyplot as plt\n",
        "import matplotlib.cm as cm\n",
        "import matplotlib.patheffects as PathEffects\n",
        "import matplotlib.patheffects as PathEffects\n",
        "from mpl_toolkits.mplot3d import Axes3D\n",
        "\n",
        "from sklearn.manifold import TSNE\n",
        "\n",
        "import tempfile\n",
        "import imageio\n",
        "import shutil\n",
        "import os"
      ],
      "execution_count": 2,
      "outputs": [
        {
          "output_type": "stream",
          "text": [
            "Collecting gensim\n",
            "\u001b[?25l  Downloading https://files.pythonhosted.org/packages/2b/e0/fa6326251692056dc880a64eb22117e03269906ba55a6864864d24ec8b4e/gensim-3.8.3-cp36-cp36m-manylinux1_x86_64.whl (24.2MB)\n",
            "\u001b[K     |████████████████████████████████| 24.2MB 135kB/s \n",
            "\u001b[?25hRequirement already satisfied, skipping upgrade: six>=1.5.0 in /usr/local/lib/python3.6/dist-packages (from gensim) (1.15.0)\n",
            "Requirement already satisfied, skipping upgrade: smart-open>=1.8.1 in /usr/local/lib/python3.6/dist-packages (from gensim) (4.1.2)\n",
            "Requirement already satisfied, skipping upgrade: numpy>=1.11.3 in /usr/local/lib/python3.6/dist-packages (from gensim) (1.19.5)\n",
            "Requirement already satisfied, skipping upgrade: scipy>=0.18.1 in /usr/local/lib/python3.6/dist-packages (from gensim) (1.4.1)\n",
            "Installing collected packages: gensim\n",
            "  Found existing installation: gensim 3.6.0\n",
            "    Uninstalling gensim-3.6.0:\n",
            "      Successfully uninstalled gensim-3.6.0\n",
            "Successfully installed gensim-3.8.3\n",
            "Collecting transformers\n",
            "\u001b[?25l  Downloading https://files.pythonhosted.org/packages/88/b1/41130a228dd656a1a31ba281598a968320283f48d42782845f6ba567f00b/transformers-4.2.2-py3-none-any.whl (1.8MB)\n",
            "\u001b[K     |████████████████████████████████| 1.8MB 8.0MB/s \n",
            "\u001b[?25hRequirement already satisfied: numpy in /usr/local/lib/python3.6/dist-packages (from transformers) (1.19.5)\n",
            "Collecting tokenizers==0.9.4\n",
            "\u001b[?25l  Downloading https://files.pythonhosted.org/packages/0f/1c/e789a8b12e28be5bc1ce2156cf87cb522b379be9cadc7ad8091a4cc107c4/tokenizers-0.9.4-cp36-cp36m-manylinux2010_x86_64.whl (2.9MB)\n",
            "\u001b[K     |████████████████████████████████| 2.9MB 34.7MB/s \n",
            "\u001b[?25hCollecting sacremoses\n",
            "\u001b[?25l  Downloading https://files.pythonhosted.org/packages/7d/34/09d19aff26edcc8eb2a01bed8e98f13a1537005d31e95233fd48216eed10/sacremoses-0.0.43.tar.gz (883kB)\n",
            "\u001b[K     |████████████████████████████████| 890kB 51.8MB/s \n",
            "\u001b[?25hRequirement already satisfied: regex!=2019.12.17 in /usr/local/lib/python3.6/dist-packages (from transformers) (2019.12.20)\n",
            "Requirement already satisfied: packaging in /usr/local/lib/python3.6/dist-packages (from transformers) (20.8)\n",
            "Requirement already satisfied: dataclasses; python_version < \"3.7\" in /usr/local/lib/python3.6/dist-packages (from transformers) (0.8)\n",
            "Requirement already satisfied: importlib-metadata; python_version < \"3.8\" in /usr/local/lib/python3.6/dist-packages (from transformers) (3.4.0)\n",
            "Requirement already satisfied: tqdm>=4.27 in /usr/local/lib/python3.6/dist-packages (from transformers) (4.41.1)\n",
            "Requirement already satisfied: requests in /usr/local/lib/python3.6/dist-packages (from transformers) (2.23.0)\n",
            "Requirement already satisfied: filelock in /usr/local/lib/python3.6/dist-packages (from transformers) (3.0.12)\n",
            "Requirement already satisfied: six in /usr/local/lib/python3.6/dist-packages (from sacremoses->transformers) (1.15.0)\n",
            "Requirement already satisfied: click in /usr/local/lib/python3.6/dist-packages (from sacremoses->transformers) (7.1.2)\n",
            "Requirement already satisfied: joblib in /usr/local/lib/python3.6/dist-packages (from sacremoses->transformers) (1.0.0)\n",
            "Requirement already satisfied: pyparsing>=2.0.2 in /usr/local/lib/python3.6/dist-packages (from packaging->transformers) (2.4.7)\n",
            "Requirement already satisfied: zipp>=0.5 in /usr/local/lib/python3.6/dist-packages (from importlib-metadata; python_version < \"3.8\"->transformers) (3.4.0)\n",
            "Requirement already satisfied: typing-extensions>=3.6.4; python_version < \"3.8\" in /usr/local/lib/python3.6/dist-packages (from importlib-metadata; python_version < \"3.8\"->transformers) (3.7.4.3)\n",
            "Requirement already satisfied: certifi>=2017.4.17 in /usr/local/lib/python3.6/dist-packages (from requests->transformers) (2020.12.5)\n",
            "Requirement already satisfied: idna<3,>=2.5 in /usr/local/lib/python3.6/dist-packages (from requests->transformers) (2.10)\n",
            "Requirement already satisfied: urllib3!=1.25.0,!=1.25.1,<1.26,>=1.21.1 in /usr/local/lib/python3.6/dist-packages (from requests->transformers) (1.24.3)\n",
            "Requirement already satisfied: chardet<4,>=3.0.2 in /usr/local/lib/python3.6/dist-packages (from requests->transformers) (3.0.4)\n",
            "Building wheels for collected packages: sacremoses\n",
            "  Building wheel for sacremoses (setup.py) ... \u001b[?25l\u001b[?25hdone\n",
            "  Created wheel for sacremoses: filename=sacremoses-0.0.43-cp36-none-any.whl size=893261 sha256=9ea1608cb738662c9292cab6152b51bc41c625427422c98388293ff4154c8ea8\n",
            "  Stored in directory: /root/.cache/pip/wheels/29/3c/fd/7ce5c3f0666dab31a50123635e6fb5e19ceb42ce38d4e58f45\n",
            "Successfully built sacremoses\n",
            "Installing collected packages: tokenizers, sacremoses, transformers\n",
            "Successfully installed sacremoses-0.0.43 tokenizers-0.9.4 transformers-4.2.2\n",
            "[nltk_data] Downloading package punkt to /root/nltk_data...\n",
            "[nltk_data]   Unzipping tokenizers/punkt.zip.\n"
          ],
          "name": "stdout"
        }
      ]
    },
    {
      "cell_type": "markdown",
      "metadata": {
        "id": "HPRlRT5gJS-t"
      },
      "source": [
        "# Data Exploration - ```search_request.csv``` \n",
        "A table with data about the initiating search request. It contains the query and other search metadata, including a unique search ID and user ID"
      ]
    },
    {
      "cell_type": "code",
      "metadata": {
        "id": "TwwOpYXSIyDa"
      },
      "source": [
        "# Function to load the data into a pandas dataframe \n",
        "search_request_path = \"/content/drive/MyDrive/Vimeo Datasets/search_request.csv\"\n",
        "def load_search_request(csv_name):\n",
        "    column_names = ['search_id', 'search_query', 'ts', 'cuid', 'total']\n",
        "    return pd.read_csv(csv_name, names=column_names)"
      ],
      "execution_count": 3,
      "outputs": []
    },
    {
      "cell_type": "code",
      "metadata": {
        "colab": {
          "base_uri": "https://localhost:8080/",
          "height": 359
        },
        "id": "XuUgvMrJTfIQ",
        "outputId": "b473c619-1557-43fe-e0ce-dd6da3204162"
      },
      "source": [
        "# Load data into pandas dataframe and show top 10 values\n",
        "search_request_df = load_search_request(search_request_path)\n",
        "search_request_df = search_request_df.drop(search_request_df.index[0])\n",
        "search_request_df.head(10)"
      ],
      "execution_count": 4,
      "outputs": [
        {
          "output_type": "execute_result",
          "data": {
            "text/html": [
              "<div>\n",
              "<style scoped>\n",
              "    .dataframe tbody tr th:only-of-type {\n",
              "        vertical-align: middle;\n",
              "    }\n",
              "\n",
              "    .dataframe tbody tr th {\n",
              "        vertical-align: top;\n",
              "    }\n",
              "\n",
              "    .dataframe thead th {\n",
              "        text-align: right;\n",
              "    }\n",
              "</style>\n",
              "<table border=\"1\" class=\"dataframe\">\n",
              "  <thead>\n",
              "    <tr style=\"text-align: right;\">\n",
              "      <th></th>\n",
              "      <th>search_id</th>\n",
              "      <th>search_query</th>\n",
              "      <th>ts</th>\n",
              "      <th>cuid</th>\n",
              "      <th>total</th>\n",
              "    </tr>\n",
              "  </thead>\n",
              "  <tbody>\n",
              "    <tr>\n",
              "      <th>0.0</th>\n",
              "      <td>gSogzavY5nP7fCLEtWdc</td>\n",
              "      <td>wyrm</td>\n",
              "      <td>2020-03-10 09:24:31.000 -0400</td>\n",
              "      <td>1259928</td>\n",
              "      <td>86</td>\n",
              "    </tr>\n",
              "    <tr>\n",
              "      <th>1.0</th>\n",
              "      <td>LJVevlnG6YSz8hWRzGAu</td>\n",
              "      <td>can you read my lips</td>\n",
              "      <td>2020-09-02 17:41:24.000 -0400</td>\n",
              "      <td>95330844</td>\n",
              "      <td>142</td>\n",
              "    </tr>\n",
              "    <tr>\n",
              "      <th>2.0</th>\n",
              "      <td>HcDHbnD7ltPkAiz5WzV3</td>\n",
              "      <td>brotherhood</td>\n",
              "      <td>2020-02-06 05:06:29.000 -0500</td>\n",
              "      <td>387121055</td>\n",
              "      <td>9101</td>\n",
              "    </tr>\n",
              "    <tr>\n",
              "      <th>3.0</th>\n",
              "      <td>gMcLq136RLayGwcTAaWC</td>\n",
              "      <td>space</td>\n",
              "      <td>2019-05-30 18:34:31+02:00</td>\n",
              "      <td>126560490</td>\n",
              "      <td>516935</td>\n",
              "    </tr>\n",
              "    <tr>\n",
              "      <th>4.0</th>\n",
              "      <td>OZ5zcPalXTnl9F2aILNJ</td>\n",
              "      <td>titles</td>\n",
              "      <td>2019-01-14 13:52:12-05:00</td>\n",
              "      <td>67184974</td>\n",
              "      <td>161300</td>\n",
              "    </tr>\n",
              "    <tr>\n",
              "      <th>5.0</th>\n",
              "      <td>ES4KAvHkRjTxdvLEZsHi</td>\n",
              "      <td>lips</td>\n",
              "      <td>2019-12-07 23:26:20.000 -0500</td>\n",
              "      <td>78134782</td>\n",
              "      <td>34012</td>\n",
              "    </tr>\n",
              "    <tr>\n",
              "      <th>6.0</th>\n",
              "      <td>6PlHuca34hz4Tcnd8DzQ</td>\n",
              "      <td>brotherhood of skiing</td>\n",
              "      <td>2020-02-19 19:54:51.000 -0500</td>\n",
              "      <td>8536266</td>\n",
              "      <td>34</td>\n",
              "    </tr>\n",
              "    <tr>\n",
              "      <th>7.0</th>\n",
              "      <td>m5qHM7T5fnkJOSWCYxS7</td>\n",
              "      <td>gallery</td>\n",
              "      <td>2018-09-25 16:23:02.000 -0400</td>\n",
              "      <td>54598922</td>\n",
              "      <td>162631</td>\n",
              "    </tr>\n",
              "    <tr>\n",
              "      <th>8.0</th>\n",
              "      <td>RCq8Lc9warr2n8Y0gqhh</td>\n",
              "      <td>snö</td>\n",
              "      <td>2018-09-12 19:46:10.000 -0400</td>\n",
              "      <td>117670766</td>\n",
              "      <td>2989</td>\n",
              "    </tr>\n",
              "    <tr>\n",
              "      <th>9.0</th>\n",
              "      <td>fXeCxI8CGeiuItNA2mKO</td>\n",
              "      <td>vimeo on demand</td>\n",
              "      <td>2020-05-19 23:21:05.000 -0400</td>\n",
              "      <td>243295225</td>\n",
              "      <td>5761</td>\n",
              "    </tr>\n",
              "  </tbody>\n",
              "</table>\n",
              "</div>"
            ],
            "text/plain": [
              "                search_id           search_query  ...       cuid   total\n",
              "0.0  gSogzavY5nP7fCLEtWdc                   wyrm  ...    1259928      86\n",
              "1.0  LJVevlnG6YSz8hWRzGAu   can you read my lips  ...   95330844     142\n",
              "2.0  HcDHbnD7ltPkAiz5WzV3            brotherhood  ...  387121055    9101\n",
              "3.0  gMcLq136RLayGwcTAaWC                  space  ...  126560490  516935\n",
              "4.0  OZ5zcPalXTnl9F2aILNJ                 titles  ...   67184974  161300\n",
              "5.0  ES4KAvHkRjTxdvLEZsHi                   lips  ...   78134782   34012\n",
              "6.0  6PlHuca34hz4Tcnd8DzQ  brotherhood of skiing  ...    8536266      34\n",
              "7.0  m5qHM7T5fnkJOSWCYxS7                gallery  ...   54598922  162631\n",
              "8.0  RCq8Lc9warr2n8Y0gqhh                    snö  ...  117670766    2989\n",
              "9.0  fXeCxI8CGeiuItNA2mKO        vimeo on demand  ...  243295225    5761\n",
              "\n",
              "[10 rows x 5 columns]"
            ]
          },
          "metadata": {
            "tags": []
          },
          "execution_count": 4
        }
      ]
    },
    {
      "cell_type": "code",
      "metadata": {
        "colab": {
          "base_uri": "https://localhost:8080/"
        },
        "id": "oV-LC9lJUmz1",
        "outputId": "6070eaf1-56e1-4de5-fe92-e2e46fad7c17"
      },
      "source": [
        "# Check if there are duplicate search ids --> This is what we want to drop to remove duplicates\n",
        "duplicate_search_id = search_request_df['search_id'].duplicated().any()\n",
        "print(\"Duplicate search ids: \", duplicate_search_id)"
      ],
      "execution_count": 5,
      "outputs": [
        {
          "output_type": "stream",
          "text": [
            "Duplicate search ids:  True\n"
          ],
          "name": "stdout"
        }
      ]
    },
    {
      "cell_type": "code",
      "metadata": {
        "colab": {
          "base_uri": "https://localhost:8080/"
        },
        "id": "tem7Lz22WTla",
        "outputId": "d7d3f33a-ea13-42da-e99a-d7782c4be97f"
      },
      "source": [
        "# Check how many duplicates there where and drop those entries\n",
        "#   Duplicates were interpreted as entries with the same search_id\n",
        "print(\"Before deleting duplicates: \", len(search_request_df))\n",
        "search_request_df = search_request_df.drop_duplicates(subset=['search_id'])\n",
        "print(\"After deleting duplicates: \", len(search_request_df))"
      ],
      "execution_count": 6,
      "outputs": [
        {
          "output_type": "stream",
          "text": [
            "Before deleting duplicates:  2594\n",
            "After deleting duplicates:  2494\n"
          ],
          "name": "stdout"
        }
      ]
    },
    {
      "cell_type": "code",
      "metadata": {
        "id": "LxX6h-EPXjgO"
      },
      "source": [
        "# Convert time stamp to standardized format\n",
        "search_request_df['ts'] = pd.to_datetime(search_request_df['ts'])"
      ],
      "execution_count": 7,
      "outputs": []
    },
    {
      "cell_type": "code",
      "metadata": {
        "colab": {
          "base_uri": "https://localhost:8080/",
          "height": 359
        },
        "id": "Kd7DR0HIFjff",
        "outputId": "0f5d7507-1791-438f-aa25-006e9ea27b13"
      },
      "source": [
        "search_request_df.head(10)"
      ],
      "execution_count": 8,
      "outputs": [
        {
          "output_type": "execute_result",
          "data": {
            "text/html": [
              "<div>\n",
              "<style scoped>\n",
              "    .dataframe tbody tr th:only-of-type {\n",
              "        vertical-align: middle;\n",
              "    }\n",
              "\n",
              "    .dataframe tbody tr th {\n",
              "        vertical-align: top;\n",
              "    }\n",
              "\n",
              "    .dataframe thead th {\n",
              "        text-align: right;\n",
              "    }\n",
              "</style>\n",
              "<table border=\"1\" class=\"dataframe\">\n",
              "  <thead>\n",
              "    <tr style=\"text-align: right;\">\n",
              "      <th></th>\n",
              "      <th>search_id</th>\n",
              "      <th>search_query</th>\n",
              "      <th>ts</th>\n",
              "      <th>cuid</th>\n",
              "      <th>total</th>\n",
              "    </tr>\n",
              "  </thead>\n",
              "  <tbody>\n",
              "    <tr>\n",
              "      <th>0.0</th>\n",
              "      <td>gSogzavY5nP7fCLEtWdc</td>\n",
              "      <td>wyrm</td>\n",
              "      <td>2020-03-10 09:24:31-04:00</td>\n",
              "      <td>1259928</td>\n",
              "      <td>86</td>\n",
              "    </tr>\n",
              "    <tr>\n",
              "      <th>1.0</th>\n",
              "      <td>LJVevlnG6YSz8hWRzGAu</td>\n",
              "      <td>can you read my lips</td>\n",
              "      <td>2020-09-02 17:41:24-04:00</td>\n",
              "      <td>95330844</td>\n",
              "      <td>142</td>\n",
              "    </tr>\n",
              "    <tr>\n",
              "      <th>2.0</th>\n",
              "      <td>HcDHbnD7ltPkAiz5WzV3</td>\n",
              "      <td>brotherhood</td>\n",
              "      <td>2020-02-06 05:06:29-05:00</td>\n",
              "      <td>387121055</td>\n",
              "      <td>9101</td>\n",
              "    </tr>\n",
              "    <tr>\n",
              "      <th>3.0</th>\n",
              "      <td>gMcLq136RLayGwcTAaWC</td>\n",
              "      <td>space</td>\n",
              "      <td>2019-05-30 18:34:31+02:00</td>\n",
              "      <td>126560490</td>\n",
              "      <td>516935</td>\n",
              "    </tr>\n",
              "    <tr>\n",
              "      <th>4.0</th>\n",
              "      <td>OZ5zcPalXTnl9F2aILNJ</td>\n",
              "      <td>titles</td>\n",
              "      <td>2019-01-14 13:52:12-05:00</td>\n",
              "      <td>67184974</td>\n",
              "      <td>161300</td>\n",
              "    </tr>\n",
              "    <tr>\n",
              "      <th>5.0</th>\n",
              "      <td>ES4KAvHkRjTxdvLEZsHi</td>\n",
              "      <td>lips</td>\n",
              "      <td>2019-12-07 23:26:20-05:00</td>\n",
              "      <td>78134782</td>\n",
              "      <td>34012</td>\n",
              "    </tr>\n",
              "    <tr>\n",
              "      <th>6.0</th>\n",
              "      <td>6PlHuca34hz4Tcnd8DzQ</td>\n",
              "      <td>brotherhood of skiing</td>\n",
              "      <td>2020-02-19 19:54:51-05:00</td>\n",
              "      <td>8536266</td>\n",
              "      <td>34</td>\n",
              "    </tr>\n",
              "    <tr>\n",
              "      <th>7.0</th>\n",
              "      <td>m5qHM7T5fnkJOSWCYxS7</td>\n",
              "      <td>gallery</td>\n",
              "      <td>2018-09-25 16:23:02-04:00</td>\n",
              "      <td>54598922</td>\n",
              "      <td>162631</td>\n",
              "    </tr>\n",
              "    <tr>\n",
              "      <th>8.0</th>\n",
              "      <td>RCq8Lc9warr2n8Y0gqhh</td>\n",
              "      <td>snö</td>\n",
              "      <td>2018-09-12 19:46:10-04:00</td>\n",
              "      <td>117670766</td>\n",
              "      <td>2989</td>\n",
              "    </tr>\n",
              "    <tr>\n",
              "      <th>9.0</th>\n",
              "      <td>fXeCxI8CGeiuItNA2mKO</td>\n",
              "      <td>vimeo on demand</td>\n",
              "      <td>2020-05-19 23:21:05-04:00</td>\n",
              "      <td>243295225</td>\n",
              "      <td>5761</td>\n",
              "    </tr>\n",
              "  </tbody>\n",
              "</table>\n",
              "</div>"
            ],
            "text/plain": [
              "                search_id           search_query  ...       cuid   total\n",
              "0.0  gSogzavY5nP7fCLEtWdc                   wyrm  ...    1259928      86\n",
              "1.0  LJVevlnG6YSz8hWRzGAu   can you read my lips  ...   95330844     142\n",
              "2.0  HcDHbnD7ltPkAiz5WzV3            brotherhood  ...  387121055    9101\n",
              "3.0  gMcLq136RLayGwcTAaWC                  space  ...  126560490  516935\n",
              "4.0  OZ5zcPalXTnl9F2aILNJ                 titles  ...   67184974  161300\n",
              "5.0  ES4KAvHkRjTxdvLEZsHi                   lips  ...   78134782   34012\n",
              "6.0  6PlHuca34hz4Tcnd8DzQ  brotherhood of skiing  ...    8536266      34\n",
              "7.0  m5qHM7T5fnkJOSWCYxS7                gallery  ...   54598922  162631\n",
              "8.0  RCq8Lc9warr2n8Y0gqhh                    snö  ...  117670766    2989\n",
              "9.0  fXeCxI8CGeiuItNA2mKO        vimeo on demand  ...  243295225    5761\n",
              "\n",
              "[10 rows x 5 columns]"
            ]
          },
          "metadata": {
            "tags": []
          },
          "execution_count": 8
        }
      ]
    },
    {
      "cell_type": "markdown",
      "metadata": {
        "id": "RbD_JH-8a9aL"
      },
      "source": [
        "## Visualizing Search Queries in Latent Space"
      ]
    },
    {
      "cell_type": "code",
      "metadata": {
        "id": "FDhiLHbptyRT",
        "colab": {
          "base_uri": "https://localhost:8080/",
          "height": 241
        },
        "outputId": "d95ffed8-5fbc-43c0-e93a-f2e06dd83b32"
      },
      "source": [
        "'''\n",
        "Use the nltk library and word2vec to visualize \n",
        "word embedding vectors for the search queries\n",
        "Code referenced from: https://towardsdatascience.com/visualization-of-word-embedding-vectors-using-gensim-and-pca-8f592a5d3354 \n",
        "'''\n",
        "\n",
        "# Extract search queries into a list from the pandas data frame\n",
        "query_list = search_request_df[\"search_query\"].tolist()\n",
        "\n",
        "# Tokenize each of the queries to prepare for word2vec model\n",
        "tokens=[nltk.word_tokenize(words) for words in query_list]\n",
        "\n",
        "# Run the tokenized data through word2vec model to get word embeddings\n",
        "model = Word2Vec(tokens,size=50,sg=1,min_count=1)\n",
        "\n",
        "# Get matrix of word embeddings and the words to prepare for visualization \n",
        "X=model[model.wv.vocab]\n",
        "df=pd.DataFrame(X)\n",
        "df.shape\n",
        "df.head()"
      ],
      "execution_count": 9,
      "outputs": [
        {
          "output_type": "stream",
          "text": [
            "/usr/local/lib/python3.6/dist-packages/ipykernel_launcher.py:17: DeprecationWarning: Call to deprecated `__getitem__` (Method will be removed in 4.0.0, use self.wv.__getitem__() instead).\n"
          ],
          "name": "stderr"
        },
        {
          "output_type": "execute_result",
          "data": {
            "text/html": [
              "<div>\n",
              "<style scoped>\n",
              "    .dataframe tbody tr th:only-of-type {\n",
              "        vertical-align: middle;\n",
              "    }\n",
              "\n",
              "    .dataframe tbody tr th {\n",
              "        vertical-align: top;\n",
              "    }\n",
              "\n",
              "    .dataframe thead th {\n",
              "        text-align: right;\n",
              "    }\n",
              "</style>\n",
              "<table border=\"1\" class=\"dataframe\">\n",
              "  <thead>\n",
              "    <tr style=\"text-align: right;\">\n",
              "      <th></th>\n",
              "      <th>0</th>\n",
              "      <th>1</th>\n",
              "      <th>2</th>\n",
              "      <th>3</th>\n",
              "      <th>4</th>\n",
              "      <th>5</th>\n",
              "      <th>6</th>\n",
              "      <th>7</th>\n",
              "      <th>8</th>\n",
              "      <th>9</th>\n",
              "      <th>10</th>\n",
              "      <th>11</th>\n",
              "      <th>12</th>\n",
              "      <th>13</th>\n",
              "      <th>14</th>\n",
              "      <th>15</th>\n",
              "      <th>16</th>\n",
              "      <th>17</th>\n",
              "      <th>18</th>\n",
              "      <th>19</th>\n",
              "      <th>20</th>\n",
              "      <th>21</th>\n",
              "      <th>22</th>\n",
              "      <th>23</th>\n",
              "      <th>24</th>\n",
              "      <th>25</th>\n",
              "      <th>26</th>\n",
              "      <th>27</th>\n",
              "      <th>28</th>\n",
              "      <th>29</th>\n",
              "      <th>30</th>\n",
              "      <th>31</th>\n",
              "      <th>32</th>\n",
              "      <th>33</th>\n",
              "      <th>34</th>\n",
              "      <th>35</th>\n",
              "      <th>36</th>\n",
              "      <th>37</th>\n",
              "      <th>38</th>\n",
              "      <th>39</th>\n",
              "      <th>40</th>\n",
              "      <th>41</th>\n",
              "      <th>42</th>\n",
              "      <th>43</th>\n",
              "      <th>44</th>\n",
              "      <th>45</th>\n",
              "      <th>46</th>\n",
              "      <th>47</th>\n",
              "      <th>48</th>\n",
              "      <th>49</th>\n",
              "    </tr>\n",
              "  </thead>\n",
              "  <tbody>\n",
              "    <tr>\n",
              "      <th>0</th>\n",
              "      <td>-0.009977</td>\n",
              "      <td>-0.008803</td>\n",
              "      <td>-0.006527</td>\n",
              "      <td>0.003693</td>\n",
              "      <td>0.006331</td>\n",
              "      <td>-0.005166</td>\n",
              "      <td>0.002997</td>\n",
              "      <td>-0.006185</td>\n",
              "      <td>-0.005486</td>\n",
              "      <td>0.008399</td>\n",
              "      <td>0.006261</td>\n",
              "      <td>0.004429</td>\n",
              "      <td>-0.008508</td>\n",
              "      <td>-0.006910</td>\n",
              "      <td>-0.003941</td>\n",
              "      <td>-0.000772</td>\n",
              "      <td>-0.000341</td>\n",
              "      <td>-0.000202</td>\n",
              "      <td>0.006083</td>\n",
              "      <td>-0.001380</td>\n",
              "      <td>0.000218</td>\n",
              "      <td>-0.000339</td>\n",
              "      <td>0.005843</td>\n",
              "      <td>0.001371</td>\n",
              "      <td>-0.001665</td>\n",
              "      <td>0.008938</td>\n",
              "      <td>0.001043</td>\n",
              "      <td>-0.007393</td>\n",
              "      <td>0.008676</td>\n",
              "      <td>-0.001130</td>\n",
              "      <td>0.007600</td>\n",
              "      <td>0.002882</td>\n",
              "      <td>-0.000114</td>\n",
              "      <td>0.009797</td>\n",
              "      <td>-0.001825</td>\n",
              "      <td>-0.006641</td>\n",
              "      <td>-0.008174</td>\n",
              "      <td>-0.005767</td>\n",
              "      <td>0.008870</td>\n",
              "      <td>0.007710</td>\n",
              "      <td>0.002329</td>\n",
              "      <td>-0.000486</td>\n",
              "      <td>0.002004</td>\n",
              "      <td>0.004654</td>\n",
              "      <td>0.000695</td>\n",
              "      <td>-0.004957</td>\n",
              "      <td>0.005880</td>\n",
              "      <td>-0.003714</td>\n",
              "      <td>-0.004087</td>\n",
              "      <td>-0.008761</td>\n",
              "    </tr>\n",
              "    <tr>\n",
              "      <th>1</th>\n",
              "      <td>0.001674</td>\n",
              "      <td>0.009389</td>\n",
              "      <td>0.009942</td>\n",
              "      <td>-0.009011</td>\n",
              "      <td>0.009323</td>\n",
              "      <td>-0.004896</td>\n",
              "      <td>0.003172</td>\n",
              "      <td>0.007627</td>\n",
              "      <td>-0.005006</td>\n",
              "      <td>-0.001537</td>\n",
              "      <td>0.002551</td>\n",
              "      <td>-0.003761</td>\n",
              "      <td>0.002776</td>\n",
              "      <td>0.001607</td>\n",
              "      <td>0.005305</td>\n",
              "      <td>-0.005612</td>\n",
              "      <td>0.003275</td>\n",
              "      <td>-0.008702</td>\n",
              "      <td>0.009520</td>\n",
              "      <td>-0.001477</td>\n",
              "      <td>-0.004186</td>\n",
              "      <td>0.006863</td>\n",
              "      <td>-0.009234</td>\n",
              "      <td>-0.007275</td>\n",
              "      <td>-0.006711</td>\n",
              "      <td>0.000739</td>\n",
              "      <td>0.001218</td>\n",
              "      <td>0.007022</td>\n",
              "      <td>0.003825</td>\n",
              "      <td>-0.004050</td>\n",
              "      <td>-0.002894</td>\n",
              "      <td>0.007980</td>\n",
              "      <td>-0.004321</td>\n",
              "      <td>0.004946</td>\n",
              "      <td>0.008730</td>\n",
              "      <td>0.000036</td>\n",
              "      <td>-0.007029</td>\n",
              "      <td>0.001309</td>\n",
              "      <td>-0.000860</td>\n",
              "      <td>0.002395</td>\n",
              "      <td>-0.005651</td>\n",
              "      <td>-0.008808</td>\n",
              "      <td>0.006470</td>\n",
              "      <td>0.001694</td>\n",
              "      <td>-0.009003</td>\n",
              "      <td>0.003139</td>\n",
              "      <td>-0.006542</td>\n",
              "      <td>0.005304</td>\n",
              "      <td>-0.005228</td>\n",
              "      <td>0.008487</td>\n",
              "    </tr>\n",
              "    <tr>\n",
              "      <th>2</th>\n",
              "      <td>-0.002304</td>\n",
              "      <td>0.007699</td>\n",
              "      <td>0.008837</td>\n",
              "      <td>0.002466</td>\n",
              "      <td>0.003027</td>\n",
              "      <td>0.009033</td>\n",
              "      <td>0.003925</td>\n",
              "      <td>-0.008853</td>\n",
              "      <td>-0.007424</td>\n",
              "      <td>0.003564</td>\n",
              "      <td>0.005520</td>\n",
              "      <td>-0.003774</td>\n",
              "      <td>0.007180</td>\n",
              "      <td>0.003537</td>\n",
              "      <td>0.006531</td>\n",
              "      <td>0.002726</td>\n",
              "      <td>-0.003519</td>\n",
              "      <td>-0.000525</td>\n",
              "      <td>-0.002188</td>\n",
              "      <td>0.009566</td>\n",
              "      <td>0.003354</td>\n",
              "      <td>-0.009876</td>\n",
              "      <td>0.005535</td>\n",
              "      <td>0.007101</td>\n",
              "      <td>-0.004263</td>\n",
              "      <td>0.008320</td>\n",
              "      <td>0.002856</td>\n",
              "      <td>0.004538</td>\n",
              "      <td>0.001400</td>\n",
              "      <td>0.001288</td>\n",
              "      <td>-0.003156</td>\n",
              "      <td>0.001319</td>\n",
              "      <td>-0.003051</td>\n",
              "      <td>0.010645</td>\n",
              "      <td>0.008533</td>\n",
              "      <td>0.009424</td>\n",
              "      <td>-0.007875</td>\n",
              "      <td>0.002359</td>\n",
              "      <td>-0.002484</td>\n",
              "      <td>-0.006428</td>\n",
              "      <td>0.000504</td>\n",
              "      <td>-0.000432</td>\n",
              "      <td>0.002829</td>\n",
              "      <td>0.007633</td>\n",
              "      <td>0.007619</td>\n",
              "      <td>0.001158</td>\n",
              "      <td>0.009954</td>\n",
              "      <td>-0.008961</td>\n",
              "      <td>-0.007419</td>\n",
              "      <td>0.004904</td>\n",
              "    </tr>\n",
              "    <tr>\n",
              "      <th>3</th>\n",
              "      <td>-0.005831</td>\n",
              "      <td>0.005964</td>\n",
              "      <td>0.003578</td>\n",
              "      <td>-0.008360</td>\n",
              "      <td>-0.009531</td>\n",
              "      <td>-0.004365</td>\n",
              "      <td>0.003950</td>\n",
              "      <td>-0.002259</td>\n",
              "      <td>0.009526</td>\n",
              "      <td>-0.005381</td>\n",
              "      <td>-0.001389</td>\n",
              "      <td>0.008647</td>\n",
              "      <td>0.006941</td>\n",
              "      <td>-0.009296</td>\n",
              "      <td>0.009582</td>\n",
              "      <td>0.003575</td>\n",
              "      <td>0.004696</td>\n",
              "      <td>0.005989</td>\n",
              "      <td>-0.005169</td>\n",
              "      <td>-0.008685</td>\n",
              "      <td>-0.004848</td>\n",
              "      <td>0.001300</td>\n",
              "      <td>0.007857</td>\n",
              "      <td>0.003380</td>\n",
              "      <td>-0.004894</td>\n",
              "      <td>0.000683</td>\n",
              "      <td>0.000185</td>\n",
              "      <td>-0.009021</td>\n",
              "      <td>-0.005476</td>\n",
              "      <td>0.000084</td>\n",
              "      <td>-0.005364</td>\n",
              "      <td>0.006664</td>\n",
              "      <td>0.003939</td>\n",
              "      <td>-0.009790</td>\n",
              "      <td>0.009801</td>\n",
              "      <td>0.001648</td>\n",
              "      <td>0.003939</td>\n",
              "      <td>-0.005469</td>\n",
              "      <td>-0.001338</td>\n",
              "      <td>-0.006541</td>\n",
              "      <td>0.001149</td>\n",
              "      <td>-0.001100</td>\n",
              "      <td>0.009020</td>\n",
              "      <td>0.005639</td>\n",
              "      <td>0.009002</td>\n",
              "      <td>-0.007193</td>\n",
              "      <td>-0.005330</td>\n",
              "      <td>-0.001212</td>\n",
              "      <td>0.007059</td>\n",
              "      <td>-0.008827</td>\n",
              "    </tr>\n",
              "    <tr>\n",
              "      <th>4</th>\n",
              "      <td>-0.001607</td>\n",
              "      <td>-0.008545</td>\n",
              "      <td>0.001359</td>\n",
              "      <td>0.007886</td>\n",
              "      <td>0.008974</td>\n",
              "      <td>-0.008880</td>\n",
              "      <td>-0.000390</td>\n",
              "      <td>0.005019</td>\n",
              "      <td>-0.009342</td>\n",
              "      <td>-0.004553</td>\n",
              "      <td>0.009056</td>\n",
              "      <td>0.003635</td>\n",
              "      <td>-0.002526</td>\n",
              "      <td>0.003675</td>\n",
              "      <td>-0.001177</td>\n",
              "      <td>-0.008120</td>\n",
              "      <td>-0.004220</td>\n",
              "      <td>-0.004473</td>\n",
              "      <td>0.004943</td>\n",
              "      <td>0.008449</td>\n",
              "      <td>0.000631</td>\n",
              "      <td>0.001426</td>\n",
              "      <td>-0.000476</td>\n",
              "      <td>-0.001702</td>\n",
              "      <td>0.007311</td>\n",
              "      <td>-0.003478</td>\n",
              "      <td>0.000147</td>\n",
              "      <td>-0.001894</td>\n",
              "      <td>-0.002243</td>\n",
              "      <td>-0.000547</td>\n",
              "      <td>0.005926</td>\n",
              "      <td>0.005474</td>\n",
              "      <td>-0.002522</td>\n",
              "      <td>0.007839</td>\n",
              "      <td>-0.001640</td>\n",
              "      <td>-0.006179</td>\n",
              "      <td>-0.004860</td>\n",
              "      <td>-0.004045</td>\n",
              "      <td>-0.008129</td>\n",
              "      <td>0.009088</td>\n",
              "      <td>-0.008054</td>\n",
              "      <td>-0.009457</td>\n",
              "      <td>0.007725</td>\n",
              "      <td>0.008677</td>\n",
              "      <td>-0.008777</td>\n",
              "      <td>0.001148</td>\n",
              "      <td>-0.004773</td>\n",
              "      <td>-0.001790</td>\n",
              "      <td>0.008558</td>\n",
              "      <td>0.002156</td>\n",
              "    </tr>\n",
              "  </tbody>\n",
              "</table>\n",
              "</div>"
            ],
            "text/plain": [
              "         0         1         2   ...        47        48        49\n",
              "0 -0.009977 -0.008803 -0.006527  ... -0.003714 -0.004087 -0.008761\n",
              "1  0.001674  0.009389  0.009942  ...  0.005304 -0.005228  0.008487\n",
              "2 -0.002304  0.007699  0.008837  ... -0.008961 -0.007419  0.004904\n",
              "3 -0.005831  0.005964  0.003578  ... -0.001212  0.007059 -0.008827\n",
              "4 -0.001607 -0.008545  0.001359  ... -0.001790  0.008558  0.002156\n",
              "\n",
              "[5 rows x 50 columns]"
            ]
          },
          "metadata": {
            "tags": []
          },
          "execution_count": 9
        }
      ]
    },
    {
      "cell_type": "code",
      "metadata": {
        "id": "W2VzkZ4ZvPaV"
      },
      "source": [
        "'''\n",
        "Use principal component analysis to visualize embeddings\n",
        "'''\n",
        "# Computing the correlation matrix of the word embeddings\n",
        "X_corr = df.corr()\n",
        "\n",
        "# Computing eigen values and eigen vectors\n",
        "values,vectors = np.linalg.eig(X_corr)\n",
        "\n",
        "# Sorting the eigen vectors coresponding to eigen values in descending order\n",
        "args = (-values).argsort()\n",
        "values = vectors[args]\n",
        "vectors = vectors[:, args]\n",
        "\n",
        "# Taking first 2 components which explain maximum variance for projecting\n",
        "new_vectors = vectors[:,:2]\n",
        "\n",
        "# Projecting it onto new dimesion with 2 axis\n",
        "new_X = np.dot(X,new_vectors)"
      ],
      "execution_count": 19,
      "outputs": []
    },
    {
      "cell_type": "code",
      "metadata": {
        "colab": {
          "base_uri": "https://localhost:8080/",
          "height": 468
        },
        "id": "JZzOLO8UvSx0",
        "outputId": "81eda212-8930-4c3a-fd57-54f60d0b1f8d"
      },
      "source": [
        "'''\n",
        "Plot embeddings using matplotlib\n",
        "'''\n",
        "plt.figure(figsize=(13,7))\n",
        "plt.scatter(new_X[:200, 0],new_X[:200,1],linewidths=5,color='cyan')\n",
        "plt.xlabel(\"PC1\",size=15)\n",
        "plt.ylabel(\"PC2\",size=15)\n",
        "plt.title(\"Word Embedding Space\",size=20)\n",
        "vocab=list(model.wv.vocab)\n",
        "for i, word in enumerate(vocab[:200]):\n",
        "  plt.annotate(word,xy=(new_X[i,0],new_X[i,1]))\n",
        "plt.savefig('word_embedding', dpi=150, bbox_inches='tight')"
      ],
      "execution_count": 23,
      "outputs": [
        {
          "output_type": "display_data",
          "data": {
            "image/png": "[encoded data removed]",
            "text/plain": [
              "<Figure size 936x504 with 1 Axes>"
            ]
          },
          "metadata": {
            "tags": [],
            "needs_background": "light"
          }
        }
      ]
    },
    {
      "cell_type": "markdown",
      "metadata": {
        "id": "9fbrHoZtHV6U"
      },
      "source": [
        "### The figure above provides a visualization of the word embeddings in a dense spcae. It gives us an idea of how the word embeddings relate to each other with respect to a cosin similarity metric in a latent space. For example, this embedding space shows us that the words 'artist', 'youth', and 'alone' are 'simiilar'"
      ]
    },
    {
      "cell_type": "code",
      "metadata": {
        "colab": {
          "base_uri": "https://localhost:8080/"
        },
        "id": "V9wgUgZyx6Xr",
        "outputId": "f9e7f4cc-2803-4c1b-91dd-5ff60ee9fcce"
      },
      "source": [
        "'''\n",
        "We can also use several pretrained language models in the gensim library\n",
        "to compute similar words to words in the search_request database. This process\n",
        "also uses word embeddings to compute similarities. The model used below is the\n",
        "GloVe model to compute the top five most similar words to 'techniques' which was\n",
        "an entry in the search_request database. \n",
        "\n",
        "Code referenced from: https://amitness.com/2020/05/data-augmentation-for-nlp/  \n",
        "'''\n",
        "model = api.load('glove-twitter-25')  \n",
        "model.most_similar('techniques', topn=5)"
      ],
      "execution_count": null,
      "outputs": [
        {
          "output_type": "stream",
          "text": [
            "[==================================================] 100.0% 104.8/104.8MB downloaded\n"
          ],
          "name": "stdout"
        },
        {
          "output_type": "execute_result",
          "data": {
            "text/plain": [
              "[('methods', 0.9181531667709351),\n",
              " ('strategies', 0.9032960534095764),\n",
              " ('branding', 0.8861738443374634),\n",
              " ('alternative', 0.8816344141960144),\n",
              " ('habits', 0.8797299861907959)]"
            ]
          },
          "metadata": {
            "tags": []
          },
          "execution_count": 14
        }
      ]
    },
    {
      "cell_type": "code",
      "metadata": {
        "colab": {
          "base_uri": "https://localhost:8080/",
          "height": 656,
          "referenced_widgets": [
            "e8358e0bb85f4f2794e44aae8b90d82c",
            "405820888a074d309353cd9ee1e99fad",
            "aae2beb3f1bd455b9f910c5dba2bf45c",
            "39d95b92230a43568284ae54291dd745",
            "51a84c2a02754f05813472ae2389eec6",
            "796644828d0c474da5ae419451bed614",
            "54175ac79a5c4e3bb02610760eeeed84",
            "d569c9471aef45b5aaeb6136d0aaf095",
            "1375300d419c480a88b59a1f0c644fc1",
            "539f5accdac340b7a6e0ff765e5828f1",
            "7f68bd6737ec481b954254e3bb0ada8f",
            "7e119182c9a741a3b8fb029e350b45b1",
            "d68444b7578a4edcbf3fb601c69014ea",
            "721fa0484db048e2bf0fd840664f8b6d",
            "aa32fa80492a45f9b9ff76f8644c3350",
            "0c558e72084645ea957ec3c88b22451b",
            "6d9b0e360a1c462ab6796b41b055ca52",
            "f5e6c171db3d45448dbca7674ee9dcab",
            "7884b5a11bd54928a6c6516f7b064266",
            "5e1a24eef877472d8664033b29ee548f",
            "29db8520e73a4364845629e04d90f8c4",
            "c600d64beb4f4e1a99b765048315ecd9",
            "969e54e7946f4b69ac593a7537a2da7a",
            "e9132dd7012f48bea23d2db877f38922",
            "f5433ad9b8c742cd981ea09aeca389ac",
            "1c8957e0b7ca4a1f91e3fb19fffd71a6",
            "3c2da88916bd48e0a18fd617f8439121",
            "0f68d7c7096f4bc58aa04b78794c8db9",
            "ed9641a5897a4867a420b6cb4c3551f9",
            "470e1aed83fe4dbfa1881a6db6e33bdf",
            "0474c2ef1e2243a5bf99214a0e5c3994",
            "00848ceda2024883ac1ef38600f003e8",
            "a6d97c49892746529593de73e87fa1eb",
            "bc58e423ea884330b4d0189a4623f042",
            "8ef2d288adf74743898beae485e5ba85",
            "185c47f45b3943f28d1da7596491b297",
            "3536b9ec38ea4071b1a35bfbc1b0c633",
            "c5856c665e0b4b6caab9f72975554815",
            "c8e0d56eddc64106bddddcb07f3cbf68",
            "bda0064adebe430eacd8523046c9a33c"
          ]
        },
        "id": "37KCv733yQgh",
        "outputId": "502da7c3-eb4a-41e9-8602-72e861118b0b"
      },
      "source": [
        "'''\n",
        "We can also leverage masked language transformer models such as BERT \n",
        "that have been pretrained on a large corpus of text to augment text. \n",
        "For example, given a query, we can generate alternate query searches\n",
        "or reformulate the query by using one of these models. The disadvantage \n",
        "to this method is that it's difficult to figure out which part of the \n",
        "sentence should be augmented. However, it can be useful to generate and \n",
        "explore alternate or similar query searches. \n",
        "'''\n",
        "\n",
        "from transformers import pipeline\n",
        "nlp = pipeline('fill-mask')\n",
        "# Example from search_request database, original query was: 'vimeo on demand'\n",
        "nlp('<mask> on demand')"
      ],
      "execution_count": 26,
      "outputs": [
        {
          "output_type": "display_data",
          "data": {
            "application/vnd.jupyter.widget-view+json": {
              "model_id": "e8358e0bb85f4f2794e44aae8b90d82c",
              "version_minor": 0,
              "version_major": 2
            },
            "text/plain": [
              "HBox(children=(FloatProgress(value=0.0, description='Downloading', max=480.0, style=ProgressStyle(description_…"
            ]
          },
          "metadata": {
            "tags": []
          }
        },
        {
          "output_type": "stream",
          "text": [
            "\n"
          ],
          "name": "stdout"
        },
        {
          "output_type": "display_data",
          "data": {
            "application/vnd.jupyter.widget-view+json": {
              "model_id": "1375300d419c480a88b59a1f0c644fc1",
              "version_minor": 0,
              "version_major": 2
            },
            "text/plain": [
              "HBox(children=(FloatProgress(value=0.0, description='Downloading', max=331070498.0, style=ProgressStyle(descri…"
            ]
          },
          "metadata": {
            "tags": []
          }
        },
        {
          "output_type": "stream",
          "text": [
            "\n"
          ],
          "name": "stdout"
        },
        {
          "output_type": "display_data",
          "data": {
            "application/vnd.jupyter.widget-view+json": {
              "model_id": "6d9b0e360a1c462ab6796b41b055ca52",
              "version_minor": 0,
              "version_major": 2
            },
            "text/plain": [
              "HBox(children=(FloatProgress(value=0.0, description='Downloading', max=898823.0, style=ProgressStyle(descripti…"
            ]
          },
          "metadata": {
            "tags": []
          }
        },
        {
          "output_type": "stream",
          "text": [
            "\n"
          ],
          "name": "stdout"
        },
        {
          "output_type": "display_data",
          "data": {
            "application/vnd.jupyter.widget-view+json": {
              "model_id": "f5433ad9b8c742cd981ea09aeca389ac",
              "version_minor": 0,
              "version_major": 2
            },
            "text/plain": [
              "HBox(children=(FloatProgress(value=0.0, description='Downloading', max=456318.0, style=ProgressStyle(descripti…"
            ]
          },
          "metadata": {
            "tags": []
          }
        },
        {
          "output_type": "stream",
          "text": [
            "\n"
          ],
          "name": "stdout"
        },
        {
          "output_type": "display_data",
          "data": {
            "application/vnd.jupyter.widget-view+json": {
              "model_id": "a6d97c49892746529593de73e87fa1eb",
              "version_minor": 0,
              "version_major": 2
            },
            "text/plain": [
              "HBox(children=(FloatProgress(value=0.0, description='Downloading', max=1355863.0, style=ProgressStyle(descript…"
            ]
          },
          "metadata": {
            "tags": []
          }
        },
        {
          "output_type": "stream",
          "text": [
            "\n"
          ],
          "name": "stdout"
        },
        {
          "output_type": "stream",
          "text": [
            "Some weights of RobertaForMaskedLM were not initialized from the model checkpoint at distilroberta-base and are newly initialized: ['lm_head.decoder.bias']\n",
            "You should probably TRAIN this model on a down-stream task to be able to use it for predictions and inference.\n"
          ],
          "name": "stderr"
        },
        {
          "output_type": "execute_result",
          "data": {
            "text/plain": [
              "[{'score': 0.015508593991398811,\n",
              "  'sequence': '<s>Based on demand</s>',\n",
              "  'token': 20930,\n",
              "  'token_str': 'Based'},\n",
              " {'score': 0.014293973334133625,\n",
              "  'sequence': '<s>Food on demand</s>',\n",
              "  'token': 29337,\n",
              "  'token_str': 'Food'},\n",
              " {'score': 0.012535111978650093,\n",
              "  'sequence': '<s>Data on demand</s>',\n",
              "  'token': 30383,\n",
              "  'token_str': 'Data'},\n",
              " {'score': 0.012085427530109882,\n",
              "  'sequence': '<s>Netflix on demand</s>',\n",
              "  'token': 29675,\n",
              "  'token_str': 'Netflix'},\n",
              " {'score': 0.011770960874855518,\n",
              "  'sequence': '<s>Made on demand</s>',\n",
              "  'token': 29709,\n",
              "  'token_str': 'Made'}]"
            ]
          },
          "metadata": {
            "tags": []
          },
          "execution_count": 26
        }
      ]
    },
    {
      "cell_type": "code",
      "metadata": {
        "id": "R-wJmf-o3BLa",
        "colab": {
          "base_uri": "https://localhost:8080/"
        },
        "outputId": "954cbd19-64e3-401d-cb18-1e7cca8f1a24"
      },
      "source": [
        "'''\n",
        "The following code is used for visualizing high-dimensional \n",
        "Word2Vec word embeddings using t-SNE. t-SNE plots are helpful\n",
        "in visualizing complex relationships between word vectors and \n",
        "provide a better visualization of word embedding vectors\n",
        "\n",
        "The code below generates 30 similar words to the following keys\n",
        "using the word2vec model and visualizes the word embeddings with\n",
        "a t-SNE plot. \n",
        "\n",
        "Code referenced from: https://towardsdatascience.com/google-news-and-leo-tolstoy-visualizing-word2vec-word-embeddings-with-t-sne-11558d8bd4d\n",
        "'''\n",
        "\n",
        "# These keys were taken from queries in search_request\n",
        "keys = ['brotherhood', 'space', 'mouth', 'nation', 'president']\n",
        "\n",
        "# Generate top 30 most similar words to each key according to word2vec model\n",
        "embedding_clusters = []\n",
        "word_clusters = []\n",
        "for word in keys:\n",
        "    embeddings = []\n",
        "    words = []\n",
        "    for similar_word, _ in model.most_similar(word, topn=30):\n",
        "        words.append(similar_word)\n",
        "        embeddings.append(model[similar_word])\n",
        "    embedding_clusters.append(embeddings)\n",
        "    word_clusters.append(words)\n",
        "\n",
        "embedding_clusters = np.array(embedding_clusters)\n",
        "n, m, k = embedding_clusters.shape\n",
        "tsne_model_en_2d = TSNE(perplexity=60, n_components=2, init='pca', n_iter=3500, random_state=32)\n",
        "embeddings_en_2d = np.array(tsne_model_en_2d.fit_transform(embedding_clusters.reshape(n * m, k))).reshape(n, m, 2)"
      ],
      "execution_count": 66,
      "outputs": [
        {
          "output_type": "stream",
          "text": [
            "/usr/local/lib/python3.6/dist-packages/ipykernel_launcher.py:23: DeprecationWarning: Call to deprecated `most_similar` (Method will be removed in 4.0.0, use self.wv.most_similar() instead).\n",
            "/usr/local/lib/python3.6/dist-packages/ipykernel_launcher.py:25: DeprecationWarning: Call to deprecated `__getitem__` (Method will be removed in 4.0.0, use self.wv.__getitem__() instead).\n"
          ],
          "name": "stderr"
        }
      ]
    },
    {
      "cell_type": "code",
      "metadata": {
        "colab": {
          "base_uri": "https://localhost:8080/",
          "height": 663
        },
        "id": "Qt1wiscR4qEW",
        "outputId": "fa6085c1-4642-46c3-d87d-3363015c1df0"
      },
      "source": [
        "% matplotlib inline\n",
        "def tsne_plot_similar_words(title, labels, embedding_clusters, word_clusters, a, filename=None):\n",
        "    plt.figure(figsize=(16, 9))\n",
        "    colors = cm.rainbow(np.linspace(0, 1, len(labels)))\n",
        "    for label, embeddings, words, color in zip(labels, embedding_clusters, word_clusters, colors):\n",
        "        x = embeddings[:, 0]\n",
        "        y = embeddings[:, 1]\n",
        "        plt.scatter(x, y, c=color, alpha=a, label=label)\n",
        "        for i, word in enumerate(words):\n",
        "            plt.annotate(word, alpha=0.5, xy=(x[i], y[i]), xytext=(5, 2),\n",
        "                         textcoords='offset points', ha='right', va='bottom', size=8)\n",
        "    plt.legend(loc=4)\n",
        "    plt.title(title, size=20)\n",
        "    plt.grid(True)\n",
        "    if filename:\n",
        "        plt.savefig(filename, format='png', dpi=150, bbox_inches='tight')\n",
        "    plt.show()\n",
        "\n",
        "tsne_plot_similar_words('Similar words from search_request', keys, embeddings_en_2d, word_clusters, 0.7,\n",
        "                        'similar_words.png')"
      ],
      "execution_count": 67,
      "outputs": [
        {
          "output_type": "stream",
          "text": [
            "*c* argument looks like a single numeric RGB or RGBA sequence, which should be avoided as value-mapping will have precedence in case its length matches with *x* & *y*.  Please use the *color* keyword-argument or provide a 2-D array with a single row if you intend to specify the same RGB or RGBA value for all points.\n",
            "*c* argument looks like a single numeric RGB or RGBA sequence, which should be avoided as value-mapping will have precedence in case its length matches with *x* & *y*.  Please use the *color* keyword-argument or provide a 2-D array with a single row if you intend to specify the same RGB or RGBA value for all points.\n",
            "*c* argument looks like a single numeric RGB or RGBA sequence, which should be avoided as value-mapping will have precedence in case its length matches with *x* & *y*.  Please use the *color* keyword-argument or provide a 2-D array with a single row if you intend to specify the same RGB or RGBA value for all points.\n",
            "*c* argument looks like a single numeric RGB or RGBA sequence, which should be avoided as value-mapping will have precedence in case its length matches with *x* & *y*.  Please use the *color* keyword-argument or provide a 2-D array with a single row if you intend to specify the same RGB or RGBA value for all points.\n",
            "*c* argument looks like a single numeric RGB or RGBA sequence, which should be avoided as value-mapping will have precedence in case its length matches with *x* & *y*.  Please use the *color* keyword-argument or provide a 2-D array with a single row if you intend to specify the same RGB or RGBA value for all points.\n"
          ],
          "name": "stderr"
        },
        {
          "output_type": "display_data",
          "data": {
            "image/png": "[encoded data removed]",
            "text/plain": [
              "<Figure size 1152x648 with 1 Axes>"
            ]
          },
          "metadata": {
            "tags": [],
            "needs_background": "light"
          }
        }
      ]
    },
    {
      "cell_type": "markdown",
      "metadata": {
        "id": "5hBKbNAnMQG3"
      },
      "source": [
        "### The figure above shows that the queries most similar to each of the key queries are closer to each other which will be helpful in clustering and categorizing similar queries and how they relate to each other in relation to what is clicked on. "
      ]
    },
    {
      "cell_type": "markdown",
      "metadata": {
        "id": "81FS7g8S936V"
      },
      "source": [
        "## Using a textual encoder (transformer) from OpenAI Clip Model to get textual features for the queries"
      ]
    },
    {
      "cell_type": "markdown",
      "metadata": {
        "id": "PJ4842iW_V2C"
      },
      "source": [
        "The OpenAI Clip model can be leveraged to process textual data and extract text features, and process video data to produce video features, and minimize the distance between the textual and video features. The textual and video data can be linked based on what a user clicked on. \n",
        "\n",
        "https://openai.com/blog/clip/ \n",
        "\n",
        "https://cdn.openai.com/papers/Learning_Transferable_Visual_Models_From_Natural_Language_Supervision.pdf"
      ]
    },
    {
      "cell_type": "code",
      "metadata": {
        "colab": {
          "base_uri": "https://localhost:8080/"
        },
        "id": "HYh8GPdp9_Yx",
        "outputId": "c381b342-fea1-4280-b02b-e29980eb3f05"
      },
      "source": [
        "import subprocess\n",
        "\n",
        "CUDA_version = [s for s in subprocess.check_output([\"nvcc\", \"--version\"]).decode(\"UTF-8\").split(\", \") if s.startswith(\"release\")][0].split(\" \")[-1]\n",
        "print(\"CUDA version:\", CUDA_version)\n",
        "\n",
        "if CUDA_version == \"10.0\":\n",
        "    torch_version_suffix = \"+cu100\"\n",
        "elif CUDA_version == \"10.1\":\n",
        "    torch_version_suffix = \"+cu101\"\n",
        "elif CUDA_version == \"10.2\":\n",
        "    torch_version_suffix = \"\"\n",
        "else:\n",
        "    torch_version_suffix = \"+cu110\""
      ],
      "execution_count": 10,
      "outputs": [
        {
          "output_type": "stream",
          "text": [
            "CUDA version: 10.1\n"
          ],
          "name": "stdout"
        }
      ]
    },
    {
      "cell_type": "code",
      "metadata": {
        "colab": {
          "base_uri": "https://localhost:8080/"
        },
        "id": "XD-AYP-q-Cuv",
        "outputId": "6826dd9f-db69-4a93-d49a-16816a1fd756"
      },
      "source": [
        "! pip install torch==1.7.1{torch_version_suffix} torchvision==0.8.2{torch_version_suffix} -f https://download.pytorch.org/whl/torch_stable.html ftfy regex"
      ],
      "execution_count": 11,
      "outputs": [
        {
          "output_type": "stream",
          "text": [
            "Looking in links: https://download.pytorch.org/whl/torch_stable.html\n",
            "Collecting torch==1.7.1+cu101\n",
            "\u001b[?25l  Downloading https://download.pytorch.org/whl/cu101/torch-1.7.1%2Bcu101-cp36-cp36m-linux_x86_64.whl (735.4MB)\n",
            "\u001b[K     |████████████████████████████████| 735.4MB 16kB/s \n",
            "\u001b[?25hCollecting torchvision==0.8.2+cu101\n",
            "\u001b[?25l  Downloading https://download.pytorch.org/whl/cu101/torchvision-0.8.2%2Bcu101-cp36-cp36m-linux_x86_64.whl (12.8MB)\n",
            "\u001b[K     |████████████████████████████████| 12.8MB 247kB/s \n",
            "\u001b[?25hCollecting ftfy\n",
            "\u001b[?25l  Downloading https://files.pythonhosted.org/packages/ff/e2/3b51c53dffb1e52d9210ebc01f1fb9f2f6eba9b3201fa971fd3946643c71/ftfy-5.8.tar.gz (64kB)\n",
            "\u001b[K     |████████████████████████████████| 71kB 4.5MB/s \n",
            "\u001b[?25hRequirement already satisfied: regex in /usr/local/lib/python3.6/dist-packages (2019.12.20)\n",
            "Requirement already satisfied: numpy in /usr/local/lib/python3.6/dist-packages (from torch==1.7.1+cu101) (1.19.5)\n",
            "Requirement already satisfied: typing-extensions in /usr/local/lib/python3.6/dist-packages (from torch==1.7.1+cu101) (3.7.4.3)\n",
            "Requirement already satisfied: dataclasses; python_version < \"3.7\" in /usr/local/lib/python3.6/dist-packages (from torch==1.7.1+cu101) (0.8)\n",
            "Requirement already satisfied: pillow>=4.1.1 in /usr/local/lib/python3.6/dist-packages (from torchvision==0.8.2+cu101) (7.0.0)\n",
            "Requirement already satisfied: wcwidth in /usr/local/lib/python3.6/dist-packages (from ftfy) (0.2.5)\n",
            "Building wheels for collected packages: ftfy\n",
            "  Building wheel for ftfy (setup.py) ... \u001b[?25l\u001b[?25hdone\n",
            "  Created wheel for ftfy: filename=ftfy-5.8-cp36-none-any.whl size=45613 sha256=477316b776c23a4e7fc1856eef61275e0b160e95cde80a9ac670c8b46db4c9a9\n",
            "  Stored in directory: /root/.cache/pip/wheels/ba/c0/ef/f28c4da5ac84a4e06ac256ca9182fc34fa57fefffdbc68425b\n",
            "Successfully built ftfy\n",
            "Installing collected packages: torch, torchvision, ftfy\n",
            "  Found existing installation: torch 1.7.0+cu101\n",
            "    Uninstalling torch-1.7.0+cu101:\n",
            "      Successfully uninstalled torch-1.7.0+cu101\n",
            "  Found existing installation: torchvision 0.8.1+cu101\n",
            "    Uninstalling torchvision-0.8.1+cu101:\n",
            "      Successfully uninstalled torchvision-0.8.1+cu101\n",
            "Successfully installed ftfy-5.8 torch-1.7.1+cu101 torchvision-0.8.2+cu101\n"
          ],
          "name": "stdout"
        }
      ]
    },
    {
      "cell_type": "code",
      "metadata": {
        "colab": {
          "base_uri": "https://localhost:8080/"
        },
        "id": "Ou7O37bp-E5u",
        "outputId": "c0a45493-ff10-4b39-a909-dd64d1307ec6"
      },
      "source": [
        "import numpy as np\n",
        "import torch\n",
        "\n",
        "print(\"Torch version:\", torch.__version__)"
      ],
      "execution_count": 12,
      "outputs": [
        {
          "output_type": "stream",
          "text": [
            "Torch version: 1.7.1+cu101\n"
          ],
          "name": "stdout"
        }
      ]
    },
    {
      "cell_type": "code",
      "metadata": {
        "colab": {
          "base_uri": "https://localhost:8080/"
        },
        "id": "B7I0wChG-MIu",
        "outputId": "aafe096e-c1c2-46a7-9343-0ace8d5c21cc"
      },
      "source": [
        "! pip install ftfy regex\n",
        "! wget https://openaipublic.azureedge.net/clip/bpe_simple_vocab_16e6.txt.gz -O bpe_simple_vocab_16e6.txt.gz"
      ],
      "execution_count": 13,
      "outputs": [
        {
          "output_type": "stream",
          "text": [
            "Requirement already satisfied: ftfy in /usr/local/lib/python3.6/dist-packages (5.8)\n",
            "Requirement already satisfied: regex in /usr/local/lib/python3.6/dist-packages (2019.12.20)\n",
            "Requirement already satisfied: wcwidth in /usr/local/lib/python3.6/dist-packages (from ftfy) (0.2.5)\n",
            "--2021-01-27 17:57:54--  https://openaipublic.azureedge.net/clip/bpe_simple_vocab_16e6.txt.gz\n",
            "Resolving openaipublic.azureedge.net (openaipublic.azureedge.net)... 13.107.246.13, 2620:1ec:bdf::13\n",
            "Connecting to openaipublic.azureedge.net (openaipublic.azureedge.net)|13.107.246.13|:443... connected.\n",
            "HTTP request sent, awaiting response... 200 OK\n",
            "Length: 1356917 (1.3M) [application/octet-stream]\n",
            "Saving to: ‘bpe_simple_vocab_16e6.txt.gz’\n",
            "\n",
            "bpe_simple_vocab_16 100%[===================>]   1.29M  --.-KB/s    in 0.1s    \n",
            "\n",
            "2021-01-27 17:57:54 (9.71 MB/s) - ‘bpe_simple_vocab_16e6.txt.gz’ saved [1356917/1356917]\n",
            "\n"
          ],
          "name": "stdout"
        }
      ]
    },
    {
      "cell_type": "code",
      "metadata": {
        "id": "2493sMPB-Mua"
      },
      "source": [
        "#@title\n",
        "\n",
        "import gzip\n",
        "import html\n",
        "import os\n",
        "from functools import lru_cache\n",
        "\n",
        "import ftfy\n",
        "import regex as re\n",
        "\n",
        "\n",
        "@lru_cache()\n",
        "def bytes_to_unicode():\n",
        "    \"\"\"\n",
        "    Returns list of utf-8 byte and a corresponding list of unicode strings.\n",
        "    The reversible bpe codes work on unicode strings.\n",
        "    This means you need a large # of unicode characters in your vocab if you want to avoid UNKs.\n",
        "    When you're at something like a 10B token dataset you end up needing around 5K for decent coverage.\n",
        "    This is a signficant percentage of your normal, say, 32K bpe vocab.\n",
        "    To avoid that, we want lookup tables between utf-8 bytes and unicode strings.\n",
        "    And avoids mapping to whitespace/control characters the bpe code barfs on.\n",
        "    \"\"\"\n",
        "    bs = list(range(ord(\"!\"), ord(\"~\")+1))+list(range(ord(\"¡\"), ord(\"¬\")+1))+list(range(ord(\"®\"), ord(\"ÿ\")+1))\n",
        "    cs = bs[:]\n",
        "    n = 0\n",
        "    for b in range(2**8):\n",
        "        if b not in bs:\n",
        "            bs.append(b)\n",
        "            cs.append(2**8+n)\n",
        "            n += 1\n",
        "    cs = [chr(n) for n in cs]\n",
        "    return dict(zip(bs, cs))\n",
        "\n",
        "\n",
        "def get_pairs(word):\n",
        "    \"\"\"Return set of symbol pairs in a word.\n",
        "    Word is represented as tuple of symbols (symbols being variable-length strings).\n",
        "    \"\"\"\n",
        "    pairs = set()\n",
        "    prev_char = word[0]\n",
        "    for char in word[1:]:\n",
        "        pairs.add((prev_char, char))\n",
        "        prev_char = char\n",
        "    return pairs\n",
        "\n",
        "\n",
        "def basic_clean(text):\n",
        "    text = ftfy.fix_text(text)\n",
        "    text = html.unescape(html.unescape(text))\n",
        "    return text.strip()\n",
        "\n",
        "\n",
        "def whitespace_clean(text):\n",
        "    text = re.sub(r'\\s+', ' ', text)\n",
        "    text = text.strip()\n",
        "    return text\n",
        "\n",
        "\n",
        "class SimpleTokenizer(object):\n",
        "    def __init__(self, bpe_path: str = \"bpe_simple_vocab_16e6.txt.gz\"):\n",
        "        self.byte_encoder = bytes_to_unicode()\n",
        "        self.byte_decoder = {v: k for k, v in self.byte_encoder.items()}\n",
        "        merges = gzip.open(bpe_path).read().decode(\"utf-8\").split('\\n')\n",
        "        merges = merges[1:49152-256-2+1]\n",
        "        merges = [tuple(merge.split()) for merge in merges]\n",
        "        vocab = list(bytes_to_unicode().values())\n",
        "        vocab = vocab + [v+'</w>' for v in vocab]\n",
        "        for merge in merges:\n",
        "            vocab.append(''.join(merge))\n",
        "        vocab.extend(['<|startoftext|>', '<|endoftext|>'])\n",
        "        self.encoder = dict(zip(vocab, range(len(vocab))))\n",
        "        self.decoder = {v: k for k, v in self.encoder.items()}\n",
        "        self.bpe_ranks = dict(zip(merges, range(len(merges))))\n",
        "        self.cache = {'<|startoftext|>': '<|startoftext|>', '<|endoftext|>': '<|endoftext|>'}\n",
        "        self.pat = re.compile(r\"\"\"<\\|startoftext\\|>|<\\|endoftext\\|>|'s|'t|'re|'ve|'m|'ll|'d|[\\p{L}]+|[\\p{N}]|[^\\s\\p{L}\\p{N}]+\"\"\", re.IGNORECASE)\n",
        "\n",
        "    def bpe(self, token):\n",
        "        if token in self.cache:\n",
        "            return self.cache[token]\n",
        "        word = tuple(token[:-1]) + ( token[-1] + '</w>',)\n",
        "        pairs = get_pairs(word)\n",
        "\n",
        "        if not pairs:\n",
        "            return token+'</w>'\n",
        "\n",
        "        while True:\n",
        "            bigram = min(pairs, key = lambda pair: self.bpe_ranks.get(pair, float('inf')))\n",
        "            if bigram not in self.bpe_ranks:\n",
        "                break\n",
        "            first, second = bigram\n",
        "            new_word = []\n",
        "            i = 0\n",
        "            while i < len(word):\n",
        "                try:\n",
        "                    j = word.index(first, i)\n",
        "                    new_word.extend(word[i:j])\n",
        "                    i = j\n",
        "                except:\n",
        "                    new_word.extend(word[i:])\n",
        "                    break\n",
        "\n",
        "                if word[i] == first and i < len(word)-1 and word[i+1] == second:\n",
        "                    new_word.append(first+second)\n",
        "                    i += 2\n",
        "                else:\n",
        "                    new_word.append(word[i])\n",
        "                    i += 1\n",
        "            new_word = tuple(new_word)\n",
        "            word = new_word\n",
        "            if len(word) == 1:\n",
        "                break\n",
        "            else:\n",
        "                pairs = get_pairs(word)\n",
        "        word = ' '.join(word)\n",
        "        self.cache[token] = word\n",
        "        return word\n",
        "\n",
        "    def encode(self, text):\n",
        "        bpe_tokens = []\n",
        "        text = whitespace_clean(basic_clean(text)).lower()\n",
        "        for token in re.findall(self.pat, text):\n",
        "            token = ''.join(self.byte_encoder[b] for b in token.encode('utf-8'))\n",
        "            bpe_tokens.extend(self.encoder[bpe_token] for bpe_token in self.bpe(token).split(' '))\n",
        "        return bpe_tokens\n",
        "\n",
        "    def decode(self, tokens):\n",
        "        text = ''.join([self.decoder[token] for token in tokens])\n",
        "        text = bytearray([self.byte_decoder[c] for c in text]).decode('utf-8', errors=\"replace\").replace('</w>', ' ')\n",
        "        return text"
      ],
      "execution_count": 14,
      "outputs": []
    },
    {
      "cell_type": "code",
      "metadata": {
        "id": "ZI4ov358-V2S"
      },
      "source": [
        "tokenizer = SimpleTokenizer()\n",
        "text_tokens = [tokenizer.encode(desc) for desc in query_list]"
      ],
      "execution_count": 15,
      "outputs": []
    },
    {
      "cell_type": "code",
      "metadata": {
        "colab": {
          "base_uri": "https://localhost:8080/"
        },
        "id": "PUi9Hdr7_sM4",
        "outputId": "5bcc7e33-dfaa-4c97-9bf8-a05530a67ffc"
      },
      "source": [
        "print(len(text_tokens))"
      ],
      "execution_count": 17,
      "outputs": [
        {
          "output_type": "stream",
          "text": [
            "2494\n"
          ],
          "name": "stdout"
        }
      ]
    },
    {
      "cell_type": "code",
      "metadata": {
        "colab": {
          "base_uri": "https://localhost:8080/"
        },
        "id": "ul-NjzTK_wcf",
        "outputId": "b0b19b4e-0201-4dbe-80c0-cb05efc6850a"
      },
      "source": [
        "print(text_tokens[0])"
      ],
      "execution_count": 18,
      "outputs": [
        {
          "output_type": "stream",
          "text": [
            "[4665, 8431]\n"
          ],
          "name": "stdout"
        }
      ]
    },
    {
      "cell_type": "markdown",
      "metadata": {
        "id": "Qof2C8Uc_NJ7"
      },
      "source": [
        "# Data Exploration - `search_result_interaction`"
      ]
    },
    {
      "cell_type": "code",
      "metadata": {
        "id": "NzjiadsE_b9c"
      },
      "source": [
        "# Function to load the data into a pandas dataframe \n",
        "search_result_path = \"/content/drive/MyDrive/Vimeo Datasets/search_result_interaction.csv\"\n",
        "def load_search_result(csv_name):\n",
        "    column_names = ['search_id', 'ts', 'cid', 'position']\n",
        "    return pd.read_csv(csv_name, names=column_names)"
      ],
      "execution_count": 75,
      "outputs": []
    },
    {
      "cell_type": "code",
      "metadata": {
        "id": "QDrc88hB_gt3",
        "colab": {
          "base_uri": "https://localhost:8080/",
          "height": 359
        },
        "outputId": "73093fe0-7aac-4279-fbd9-f450abec1ae2"
      },
      "source": [
        "# Load data into pandas dataframe and show top 10 values\n",
        "search_result_df = load_search_result(search_result_path)\n",
        "search_result_df = search_result_df.drop(search_result_df.index[0])\n",
        "search_result_df.head(10)"
      ],
      "execution_count": 81,
      "outputs": [
        {
          "output_type": "execute_result",
          "data": {
            "text/html": [
              "<div>\n",
              "<style scoped>\n",
              "    .dataframe tbody tr th:only-of-type {\n",
              "        vertical-align: middle;\n",
              "    }\n",
              "\n",
              "    .dataframe tbody tr th {\n",
              "        vertical-align: top;\n",
              "    }\n",
              "\n",
              "    .dataframe thead th {\n",
              "        text-align: right;\n",
              "    }\n",
              "</style>\n",
              "<table border=\"1\" class=\"dataframe\">\n",
              "  <thead>\n",
              "    <tr style=\"text-align: right;\">\n",
              "      <th></th>\n",
              "      <th>search_id</th>\n",
              "      <th>ts</th>\n",
              "      <th>cid</th>\n",
              "      <th>position</th>\n",
              "    </tr>\n",
              "  </thead>\n",
              "  <tbody>\n",
              "    <tr>\n",
              "      <th>0.0</th>\n",
              "      <td>CjooiSDXx5dsx4ipdOoS</td>\n",
              "      <td>2018-09-03 21:24:50.000 -0400</td>\n",
              "      <td>210981</td>\n",
              "      <td>7</td>\n",
              "    </tr>\n",
              "    <tr>\n",
              "      <th>1.0</th>\n",
              "      <td>pYUNPqVjnN81YAYPAVNM</td>\n",
              "      <td>2020-01-10 22:56:47.000 -0500</td>\n",
              "      <td>174957219</td>\n",
              "      <td>1</td>\n",
              "    </tr>\n",
              "    <tr>\n",
              "      <th>2.0</th>\n",
              "      <td>MKik3VObeClPhecf0VMJ</td>\n",
              "      <td>2020-03-27 00:48:37.000 -0400</td>\n",
              "      <td>157320165</td>\n",
              "      <td>1</td>\n",
              "    </tr>\n",
              "    <tr>\n",
              "      <th>3.0</th>\n",
              "      <td>smQjy0WL69QY4BV6qAne</td>\n",
              "      <td>2020-04-08 08:55:12.000 -0400</td>\n",
              "      <td>81026516</td>\n",
              "      <td>12</td>\n",
              "    </tr>\n",
              "    <tr>\n",
              "      <th>4.0</th>\n",
              "      <td>fwBFYmGjtBDcN1M4i5KC</td>\n",
              "      <td>2019-12-13 21:15:33.000 -0500</td>\n",
              "      <td>71582564</td>\n",
              "      <td>2</td>\n",
              "    </tr>\n",
              "    <tr>\n",
              "      <th>5.0</th>\n",
              "      <td>eW1XjSX5kHGsHdZiAEHP</td>\n",
              "      <td>2020-02-12 15:15:18.000 -0500</td>\n",
              "      <td>118380572</td>\n",
              "      <td>1</td>\n",
              "    </tr>\n",
              "    <tr>\n",
              "      <th>6.0</th>\n",
              "      <td>rxwudb3dnCPYPosC8U4l</td>\n",
              "      <td>2018-10-13 00:41:12.000 -0400</td>\n",
              "      <td>136722796</td>\n",
              "      <td>6</td>\n",
              "    </tr>\n",
              "    <tr>\n",
              "      <th>7.0</th>\n",
              "      <td>O3ISbXVpt0G2iD1RWIOL</td>\n",
              "      <td>2019-02-04 06:50:02-05:00</td>\n",
              "      <td>247075867</td>\n",
              "      <td>16</td>\n",
              "    </tr>\n",
              "    <tr>\n",
              "      <th>8.0</th>\n",
              "      <td>kt8YJo8tTWWEPHH0ZRr5</td>\n",
              "      <td>2018-09-08 18:44:17.000 -0400</td>\n",
              "      <td>10105477</td>\n",
              "      <td>4</td>\n",
              "    </tr>\n",
              "    <tr>\n",
              "      <th>9.0</th>\n",
              "      <td>0gleJhUAJlnMrZ0pRbi6</td>\n",
              "      <td>2019-03-26 00:06:32-04:00</td>\n",
              "      <td>197412946</td>\n",
              "      <td>1</td>\n",
              "    </tr>\n",
              "  </tbody>\n",
              "</table>\n",
              "</div>"
            ],
            "text/plain": [
              "                search_id                             ts        cid position\n",
              "0.0  CjooiSDXx5dsx4ipdOoS  2018-09-03 21:24:50.000 -0400     210981        7\n",
              "1.0  pYUNPqVjnN81YAYPAVNM  2020-01-10 22:56:47.000 -0500  174957219        1\n",
              "2.0  MKik3VObeClPhecf0VMJ  2020-03-27 00:48:37.000 -0400  157320165        1\n",
              "3.0  smQjy0WL69QY4BV6qAne  2020-04-08 08:55:12.000 -0400   81026516       12\n",
              "4.0  fwBFYmGjtBDcN1M4i5KC  2019-12-13 21:15:33.000 -0500   71582564        2\n",
              "5.0  eW1XjSX5kHGsHdZiAEHP  2020-02-12 15:15:18.000 -0500  118380572        1\n",
              "6.0  rxwudb3dnCPYPosC8U4l  2018-10-13 00:41:12.000 -0400  136722796        6\n",
              "7.0  O3ISbXVpt0G2iD1RWIOL      2019-02-04 06:50:02-05:00  247075867       16\n",
              "8.0  kt8YJo8tTWWEPHH0ZRr5  2018-09-08 18:44:17.000 -0400   10105477        4\n",
              "9.0  0gleJhUAJlnMrZ0pRbi6      2019-03-26 00:06:32-04:00  197412946        1"
            ]
          },
          "metadata": {
            "tags": []
          },
          "execution_count": 81
        }
      ]
    },
    {
      "cell_type": "code",
      "metadata": {
        "id": "Fy2E6lfw_i3p",
        "colab": {
          "base_uri": "https://localhost:8080/"
        },
        "outputId": "846c7125-0e56-4ec2-94a7-486374cfc85b"
      },
      "source": [
        "# Check if there are duplicate search ids --> This is what we want to drop to remove duplicates\n",
        "duplicate_search_id = search_result_df['search_id'].duplicated().any()\n",
        "print(\"Duplicate search ids: \", duplicate_search_id)"
      ],
      "execution_count": 82,
      "outputs": [
        {
          "output_type": "stream",
          "text": [
            "Duplicate search ids:  True\n"
          ],
          "name": "stdout"
        }
      ]
    },
    {
      "cell_type": "code",
      "metadata": {
        "id": "VDPpA4cA_lAG",
        "colab": {
          "base_uri": "https://localhost:8080/"
        },
        "outputId": "2ed2bb52-ccd8-434a-c671-3c5399ec7896"
      },
      "source": [
        "print(\"Before deleting duplicates: \", len(search_result_df))\n",
        "search_result_df = search_result_df.drop_duplicates(subset=['search_id'])\n",
        "print(\"After deleting duplicates: \", len(search_result_df))"
      ],
      "execution_count": 83,
      "outputs": [
        {
          "output_type": "stream",
          "text": [
            "Before deleting duplicates:  2225\n",
            "After deleting duplicates:  1752\n"
          ],
          "name": "stdout"
        }
      ]
    },
    {
      "cell_type": "code",
      "metadata": {
        "id": "-u6yvs9p_nNu"
      },
      "source": [
        "# Convert time stamp to standardized format\n",
        "search_result_df['ts'] = pd.to_datetime(search_result_df['ts'])"
      ],
      "execution_count": 84,
      "outputs": []
    },
    {
      "cell_type": "code",
      "metadata": {
        "id": "DK-0Sc0eCO-9",
        "colab": {
          "base_uri": "https://localhost:8080/",
          "height": 589
        },
        "outputId": "e5e199b8-2bfe-4115-f834-753d4731fb46"
      },
      "source": [
        "# Delete all entries whose search_id does not correspond to a search_id in search_request.csv\n",
        "merged = pd.merge(search_request_df, search_result_df, on='search_id')\n",
        "merged"
      ],
      "execution_count": 85,
      "outputs": [
        {
          "output_type": "execute_result",
          "data": {
            "text/html": [
              "<div>\n",
              "<style scoped>\n",
              "    .dataframe tbody tr th:only-of-type {\n",
              "        vertical-align: middle;\n",
              "    }\n",
              "\n",
              "    .dataframe tbody tr th {\n",
              "        vertical-align: top;\n",
              "    }\n",
              "\n",
              "    .dataframe thead th {\n",
              "        text-align: right;\n",
              "    }\n",
              "</style>\n",
              "<table border=\"1\" class=\"dataframe\">\n",
              "  <thead>\n",
              "    <tr style=\"text-align: right;\">\n",
              "      <th></th>\n",
              "      <th>search_id</th>\n",
              "      <th>search_query</th>\n",
              "      <th>ts_x</th>\n",
              "      <th>cuid</th>\n",
              "      <th>total</th>\n",
              "      <th>ts_y</th>\n",
              "      <th>cid</th>\n",
              "      <th>position</th>\n",
              "    </tr>\n",
              "  </thead>\n",
              "  <tbody>\n",
              "    <tr>\n",
              "      <th>0</th>\n",
              "      <td>gSogzavY5nP7fCLEtWdc</td>\n",
              "      <td>wyrm</td>\n",
              "      <td>2020-03-10 09:24:31-04:00</td>\n",
              "      <td>1259928</td>\n",
              "      <td>86</td>\n",
              "      <td>2020-03-10 09:24:56-04:00</td>\n",
              "      <td>330788645</td>\n",
              "      <td>1</td>\n",
              "    </tr>\n",
              "    <tr>\n",
              "      <th>1</th>\n",
              "      <td>LJVevlnG6YSz8hWRzGAu</td>\n",
              "      <td>can you read my lips</td>\n",
              "      <td>2020-09-02 17:41:24-04:00</td>\n",
              "      <td>95330844</td>\n",
              "      <td>142</td>\n",
              "      <td>2020-09-02 17:41:27-04:00</td>\n",
              "      <td>148127830</td>\n",
              "      <td>1</td>\n",
              "    </tr>\n",
              "    <tr>\n",
              "      <th>2</th>\n",
              "      <td>HcDHbnD7ltPkAiz5WzV3</td>\n",
              "      <td>brotherhood</td>\n",
              "      <td>2020-02-06 05:06:29-05:00</td>\n",
              "      <td>387121055</td>\n",
              "      <td>9101</td>\n",
              "      <td>2020-02-06 05:06:36-05:00</td>\n",
              "      <td>363649438</td>\n",
              "      <td>1</td>\n",
              "    </tr>\n",
              "    <tr>\n",
              "      <th>3</th>\n",
              "      <td>6PlHuca34hz4Tcnd8DzQ</td>\n",
              "      <td>brotherhood of skiing</td>\n",
              "      <td>2020-02-19 19:54:51-05:00</td>\n",
              "      <td>8536266</td>\n",
              "      <td>34</td>\n",
              "      <td>2020-02-19 19:54:55-05:00</td>\n",
              "      <td>318824416</td>\n",
              "      <td>1</td>\n",
              "    </tr>\n",
              "    <tr>\n",
              "      <th>4</th>\n",
              "      <td>m5qHM7T5fnkJOSWCYxS7</td>\n",
              "      <td>gallery</td>\n",
              "      <td>2018-09-25 16:23:02-04:00</td>\n",
              "      <td>54598922</td>\n",
              "      <td>162631</td>\n",
              "      <td>2018-09-25 16:23:14-04:00</td>\n",
              "      <td>267331356</td>\n",
              "      <td>4</td>\n",
              "    </tr>\n",
              "    <tr>\n",
              "      <th>...</th>\n",
              "      <td>...</td>\n",
              "      <td>...</td>\n",
              "      <td>...</td>\n",
              "      <td>...</td>\n",
              "      <td>...</td>\n",
              "      <td>...</td>\n",
              "      <td>...</td>\n",
              "      <td>...</td>\n",
              "    </tr>\n",
              "    <tr>\n",
              "      <th>1579</th>\n",
              "      <td>CoGyCEcdtSfGhyZ2Brbj</td>\n",
              "      <td>half asleep</td>\n",
              "      <td>2020-07-27 08:45:39-04:00</td>\n",
              "      <td>377838437</td>\n",
              "      <td>506</td>\n",
              "      <td>2020-07-27 08:46:05-04:00</td>\n",
              "      <td>272976101</td>\n",
              "      <td>1</td>\n",
              "    </tr>\n",
              "    <tr>\n",
              "      <th>1580</th>\n",
              "      <td>qt85Yr41ROpIopQ68ARq</td>\n",
              "      <td>pov sxsw</td>\n",
              "      <td>2020-08-28 03:11:27-04:00</td>\n",
              "      <td>443820960</td>\n",
              "      <td>32</td>\n",
              "      <td>2020-08-28 03:11:31-04:00</td>\n",
              "      <td>90068717</td>\n",
              "      <td>4</td>\n",
              "    </tr>\n",
              "    <tr>\n",
              "      <th>1581</th>\n",
              "      <td>kB2nE8MdhfgUXzSxl1dU</td>\n",
              "      <td>josh hayward</td>\n",
              "      <td>2019-11-04 09:57:35-05:00</td>\n",
              "      <td>172655391</td>\n",
              "      <td>4973</td>\n",
              "      <td>2019-11-04 09:57:46-05:00</td>\n",
              "      <td>235491682</td>\n",
              "      <td>6</td>\n",
              "    </tr>\n",
              "    <tr>\n",
              "      <th>1582</th>\n",
              "      <td>kt8YJo8tTWWEPHH0ZRr5</td>\n",
              "      <td>backyard</td>\n",
              "      <td>2018-09-08 18:44:08-04:00</td>\n",
              "      <td>192952806</td>\n",
              "      <td>61686</td>\n",
              "      <td>2018-09-08 18:44:17-04:00</td>\n",
              "      <td>10105477</td>\n",
              "      <td>4</td>\n",
              "    </tr>\n",
              "    <tr>\n",
              "      <th>1583</th>\n",
              "      <td>GAO2ytuvLksGctj6ApA3</td>\n",
              "      <td>forest projection</td>\n",
              "      <td>2020-05-25 10:51:54-04:00</td>\n",
              "      <td>473070848</td>\n",
              "      <td>444</td>\n",
              "      <td>2020-05-25 10:51:58-04:00</td>\n",
              "      <td>115082758</td>\n",
              "      <td>1</td>\n",
              "    </tr>\n",
              "  </tbody>\n",
              "</table>\n",
              "<p>1584 rows × 8 columns</p>\n",
              "</div>"
            ],
            "text/plain": [
              "                 search_id           search_query  ...        cid position\n",
              "0     gSogzavY5nP7fCLEtWdc                   wyrm  ...  330788645        1\n",
              "1     LJVevlnG6YSz8hWRzGAu   can you read my lips  ...  148127830        1\n",
              "2     HcDHbnD7ltPkAiz5WzV3            brotherhood  ...  363649438        1\n",
              "3     6PlHuca34hz4Tcnd8DzQ  brotherhood of skiing  ...  318824416        1\n",
              "4     m5qHM7T5fnkJOSWCYxS7                gallery  ...  267331356        4\n",
              "...                    ...                    ...  ...        ...      ...\n",
              "1579  CoGyCEcdtSfGhyZ2Brbj            half asleep  ...  272976101        1\n",
              "1580  qt85Yr41ROpIopQ68ARq               pov sxsw  ...   90068717        4\n",
              "1581  kB2nE8MdhfgUXzSxl1dU           josh hayward  ...  235491682        6\n",
              "1582  kt8YJo8tTWWEPHH0ZRr5               backyard  ...   10105477        4\n",
              "1583  GAO2ytuvLksGctj6ApA3      forest projection  ...  115082758        1\n",
              "\n",
              "[1584 rows x 8 columns]"
            ]
          },
          "metadata": {
            "tags": []
          },
          "execution_count": 85
        }
      ]
    },
    {
      "cell_type": "code",
      "metadata": {
        "id": "DZIz4RxIJ705",
        "colab": {
          "base_uri": "https://localhost:8080/"
        },
        "outputId": "3f86edb0-7160-49d0-b172-d4d2a75529ee"
      },
      "source": [
        "'''\n",
        "The following code generates a t-SNE plot by first extracting the\n",
        "clip IDs with the most clicks, getting the corresponding queries \n",
        "associated to the video clip, and comparing the queries by clustering\n",
        "them in accordance with the clip id. This can reveal relationships between\n",
        "the queries that led to the same click and can help with feature extraction of \n",
        "the text. Content based filtering approaches can leverage features from the search\n",
        "query and metadata about the clip itself to generate connections between search queries\n",
        "and video clips thus improving search results. Furthermore, collaborative filtering \n",
        "approaches could benefit from a user's search history and profiling a user in order\n",
        "to determine patterns between users thus personalizing reccomendations. Lastly, the \n",
        "position ranking data can be used to further improve the ranking network by reducing the\n",
        "distance between a video and a query that led to a click.  \n",
        "'''\n",
        "\n",
        "# Get the clip IDs with the most clicks \n",
        "x = merged['cid'].value_counts()\n",
        "print(\"Top 10 queries with most clicks: \", x[:10])\n",
        "keys = ['108018156', '293033666', '222486164', '180668935', '133697756', '118919656', '122375452', '276794240', '117467847', '136689216']\n",
        "\n",
        "keys_queries = {}\n",
        "for key in keys:\n",
        "    x = merged.loc[merged['cid'] == key]\n",
        "    queries = x['search_query'].tolist()\n",
        "    keys_queries[key] = queries\n",
        "keys_queries"
      ],
      "execution_count": 115,
      "outputs": [
        {
          "output_type": "stream",
          "text": [
            "Top 10 queries with most clicks:  108018156    17\n",
            "293033666     8\n",
            "222486164     6\n",
            "118919656     5\n",
            "180668935     5\n",
            "133697756     5\n",
            "90667610      4\n",
            "117467847     4\n",
            "27246366      4\n",
            "134530201     4\n",
            "Name: cid, dtype: int64\n"
          ],
          "name": "stdout"
        },
        {
          "output_type": "execute_result",
          "data": {
            "text/plain": [
              "{'108018156': ['watchtower of turkey',\n",
              "  'watchtower of turkey',\n",
              "  'watchtower of turkey',\n",
              "  'watchtower of turkey',\n",
              "  'turkey',\n",
              "  'watchtower of turkey',\n",
              "  'watchtower of turkey',\n",
              "  'watchtower of turkey',\n",
              "  'watchtower of turkey',\n",
              "  'watchtower of turkey',\n",
              "  'watchtower',\n",
              "  'watchtower of turkey',\n",
              "  'watchtower of turkey',\n",
              "  'watchtower of turkey',\n",
              "  'watchtower of turkey',\n",
              "  'turkey',\n",
              "  'turkey'],\n",
              " '117467847': ['just a minute vogue',\n",
              "  'just a minute vogue',\n",
              "  'vogue dakota',\n",
              "  'chayse irvin'],\n",
              " '118919656': ['fitc', 'ash thorp fitc', 'fitc', 'tokyo', 'titles'],\n",
              " '122375452': ['denali national park', 'denali', 'denali', 'denali'],\n",
              " '133697756': ['music video', 'acid rain lorn', 'lorn', 'music video', 'rain'],\n",
              " '136689216': ['portrait film', 'portrait', 'portrait', 'portrait'],\n",
              " '180668935': ['kenzo', 'kenzo world', 'kenzo spike jonze', 'kenzo', 'kenzo'],\n",
              " '222486164': ['the blaze - territory',\n",
              "  'the blaze',\n",
              "  'territory',\n",
              "  'the blaze',\n",
              "  'the blaze - territory',\n",
              "  'territory the blaze'],\n",
              " '276794240': ['this is america',\n",
              "  'this is america',\n",
              "  'this is america',\n",
              "  'childish gambino - this is america'],\n",
              " '293033666': ['fauve',\n",
              "  'fauve',\n",
              "  'fauve',\n",
              "  'fauve',\n",
              "  'fauve',\n",
              "  'fauve',\n",
              "  'fauve',\n",
              "  'fauve']}"
            ]
          },
          "metadata": {
            "tags": []
          },
          "execution_count": 115
        }
      ]
    },
    {
      "cell_type": "code",
      "metadata": {
        "id": "Ot7BLzY6L0VZ",
        "colab": {
          "base_uri": "https://localhost:8080/"
        },
        "outputId": "d0923167-10df-4ca8-a5ae-c3618240e589"
      },
      "source": [
        "embedding_clusters = []\n",
        "word_clusters = []\n",
        "for key in keys_queries.keys():\n",
        "    embeddings = []\n",
        "    words = []\n",
        "    for query in keys_queries[key]:\n",
        "        tokens = [nltk.word_tokenize(query) for words in query]\n",
        "        words.append(query)\n",
        "        embeddings_single = []\n",
        "        for i in tokens:\n",
        "            embeddings_single.append(model[i])\n",
        "        embeddings.append(sum(embeddings_single)[0])\n",
        "    embedding_clusters.append(np.array(embeddings))\n",
        "    word_clusters.append(words)"
      ],
      "execution_count": 117,
      "outputs": [
        {
          "output_type": "stream",
          "text": [
            "/usr/local/lib/python3.6/dist-packages/ipykernel_launcher.py:11: DeprecationWarning: Call to deprecated `__getitem__` (Method will be removed in 4.0.0, use self.wv.__getitem__() instead).\n",
            "  # This is added back by InteractiveShellApp.init_path()\n"
          ],
          "name": "stderr"
        }
      ]
    },
    {
      "cell_type": "code",
      "metadata": {
        "id": "BTSbG9hmQUIt"
      },
      "source": [
        "stacked_embeddings = np.vstack(embedding_clusters)\n",
        "tsne_model_2d = TSNE(perplexity=5, n_components=2, init='pca', n_iter=3500, random_state=32)\n",
        "embeddings_2d = np.array(tsne_model_2d.fit_transform(stacked_embeddings))\n",
        "num_pts = np.cumsum(np.array([c.shape[0] for c in embedding_clusters]))[:-1]\n",
        "embedding_reshape =  np.split(embeddings_2d, num_pts)"
      ],
      "execution_count": 118,
      "outputs": []
    },
    {
      "cell_type": "code",
      "metadata": {
        "id": "7mMPxc3XF66Q",
        "colab": {
          "base_uri": "https://localhost:8080/",
          "height": 680
        },
        "outputId": "20627e1f-7799-4d40-ad9a-fbdf0e5ca93b"
      },
      "source": [
        "% matplotlib inline\n",
        "def tsne_plot_similar_words(title, labels, embedding_clusters, word_clusters, a, filename=None):\n",
        "    plt.figure(figsize=(16, 9))\n",
        "    colors = cm.rainbow(np.linspace(0, 1, len(labels)))\n",
        "    for label, embeddings, words, color in zip(labels, embedding_clusters, word_clusters, colors):\n",
        "        x = embeddings[:, 0]\n",
        "        y = embeddings[:, 1]\n",
        "        plt.scatter(x, y, c=color, alpha=a, label=label)\n",
        "        for i, word in enumerate(words):\n",
        "            plt.annotate(word, alpha=0.5, xy=(x[i], y[i]), xytext=(5, 2),\n",
        "                         textcoords='offset points', ha='right', va='bottom', size=8)\n",
        "    plt.legend(loc=4)\n",
        "    plt.title(title, size=20)\n",
        "    plt.grid(True)\n",
        "    if filename:\n",
        "        plt.savefig(filename, format='png', dpi=150, bbox_inches='tight')\n",
        "    plt.show()\n",
        "\n",
        "\n",
        "tsne_plot_similar_words('Similar queries from search_result_interaction', keys, \n",
        "                        embedding_reshape, \n",
        "                        word_clusters, 0.7,\n",
        "                        'similar_queries.png')"
      ],
      "execution_count": 119,
      "outputs": [
        {
          "output_type": "stream",
          "text": [
            "*c* argument looks like a single numeric RGB or RGBA sequence, which should be avoided as value-mapping will have precedence in case its length matches with *x* & *y*.  Please use the *color* keyword-argument or provide a 2-D array with a single row if you intend to specify the same RGB or RGBA value for all points.\n",
            "*c* argument looks like a single numeric RGB or RGBA sequence, which should be avoided as value-mapping will have precedence in case its length matches with *x* & *y*.  Please use the *color* keyword-argument or provide a 2-D array with a single row if you intend to specify the same RGB or RGBA value for all points.\n",
            "*c* argument looks like a single numeric RGB or RGBA sequence, which should be avoided as value-mapping will have precedence in case its length matches with *x* & *y*.  Please use the *color* keyword-argument or provide a 2-D array with a single row if you intend to specify the same RGB or RGBA value for all points.\n",
            "*c* argument looks like a single numeric RGB or RGBA sequence, which should be avoided as value-mapping will have precedence in case its length matches with *x* & *y*.  Please use the *color* keyword-argument or provide a 2-D array with a single row if you intend to specify the same RGB or RGBA value for all points.\n",
            "*c* argument looks like a single numeric RGB or RGBA sequence, which should be avoided as value-mapping will have precedence in case its length matches with *x* & *y*.  Please use the *color* keyword-argument or provide a 2-D array with a single row if you intend to specify the same RGB or RGBA value for all points.\n",
            "*c* argument looks like a single numeric RGB or RGBA sequence, which should be avoided as value-mapping will have precedence in case its length matches with *x* & *y*.  Please use the *color* keyword-argument or provide a 2-D array with a single row if you intend to specify the same RGB or RGBA value for all points.\n"
          ],
          "name": "stderr"
        },
        {
          "output_type": "display_data",
          "data": {
            "image/png": "[encoded data removed]",
            "text/plain": [
              "<Figure size 1152x648 with 1 Axes>"
            ]
          },
          "metadata": {
            "tags": [],
            "needs_background": "light"
          }
        }
      ]
    },
    {
      "cell_type": "markdown",
      "metadata": {
        "id": "rggL3dx2o868"
      },
      "source": [
        "## The plot above shows that similar queries are clustered together in the latent space. For example, the cyan cluster in the top left corner clustered 'kenzo spike jonze' and 'kenzo world' close together since those are similar queries and resulted in the same video clip being clicked. This shows that queries that led to the same clicked video are similar as well. "
      ]
    }
  ]
}